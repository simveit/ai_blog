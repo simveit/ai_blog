{
 "cells": [
  {
   "cell_type": "markdown",
   "id": "65baa395-692d-4080-b246-1a347f9b64fd",
   "metadata": {
    "tags": []
   },
   "source": [
    "# A first 🤗 model"
   ]
  },
  {
   "cell_type": "markdown",
   "id": "797744e1-2741-406a-a657-6c94b5d2268b",
   "metadata": {},
   "source": [
    "As [Lesson 4](https://course.fast.ai/Lessons/lesson4.html) of the fastai DL course deals with NLP, I decided to give this [competition](https://www.kaggle.com/competitions/feedback-prize-english-language-learning) on kaggle a try.\n",
    "\n",
    "Many hints to how implement multi label classification can be found in [the following great notebook](https://github.com/NielsRogge/Transformers-Tutorials/blob/master/BERT/Fine_tuning_BERT_(and_friends)_for_multi_label_text_classification.ipynb)\n",
    "\n",
    "This is my first NLP model, so please make sure I didn't make any mistakes and if so, pls let me know 😀\n",
    "\n",
    "Have fun reading ☺️"
   ]
  },
  {
   "cell_type": "code",
   "execution_count": 1,
   "id": "b76bf546-f458-4607-a864-d31b854fc9ad",
   "metadata": {},
   "outputs": [],
   "source": [
    "from datasets import Dataset,DatasetDict\n",
    "import matplotlib.pyplot as plt\n",
    "import numpy as np\n",
    "import pandas as pd\n",
    "from pathlib import Path\n",
    "import seaborn as sns\n",
    "from transformers import AutoModelForSequenceClassification,AutoTokenizer\n",
    "import torch\n",
    "\n",
    "# Set nice style\n",
    "plt.style.use(['dark_background'])"
   ]
  },
  {
   "cell_type": "markdown",
   "id": "71374cdc-d5bf-4ac9-b691-7adc80bfe2b7",
   "metadata": {},
   "source": [
    "## A first look at our data"
   ]
  },
  {
   "cell_type": "code",
   "execution_count": 2,
   "id": "b1162be6-8793-46ce-8c2b-7b4311f57a24",
   "metadata": {},
   "outputs": [],
   "source": [
    "path = Path(\"feedback-prize-english-language-learning\")"
   ]
  },
  {
   "cell_type": "markdown",
   "id": "5bb4e3b8-4969-4319-9de9-878b19e5740a",
   "metadata": {},
   "source": [
    "Get an overview of what is contained in our folder."
   ]
  },
  {
   "cell_type": "code",
   "execution_count": 3,
   "id": "382d7b06-f85f-43c2-96e9-f4076f16eb70",
   "metadata": {},
   "outputs": [
    {
     "name": "stdout",
     "output_type": "stream",
     "text": [
      "sample_submission.csv  test.csv  train.csv\n"
     ]
    }
   ],
   "source": [
    "!ls {path}"
   ]
  },
  {
   "cell_type": "code",
   "execution_count": 4,
   "id": "dd37b044-7cf0-4dac-8d82-244a5bd566c8",
   "metadata": {},
   "outputs": [],
   "source": [
    "df_ss = pd.read_csv(path/\"sample_submission.csv\")\n",
    "df_tst = pd.read_csv(path/\"test.csv\")\n",
    "df_trn = pd.read_csv(path/\"train.csv\")"
   ]
  },
  {
   "cell_type": "markdown",
   "id": "8ae381ff-1a6c-4cad-b98a-97412ba85fcf",
   "metadata": {},
   "source": [
    "From [the competition site](https://www.kaggle.com/competitions/feedback-prize-english-language-learning/data) we know that we have six different categories which determine the proficiency in essay writing of a given student. Higher scores -> Higher proficiency."
   ]
  },
  {
   "cell_type": "code",
   "execution_count": 5,
   "id": "2739ad84-575d-459e-a120-0435b6c10c04",
   "metadata": {},
   "outputs": [
    {
     "data": {
      "text/html": [
       "<div>\n",
       "<style scoped>\n",
       "    .dataframe tbody tr th:only-of-type {\n",
       "        vertical-align: middle;\n",
       "    }\n",
       "\n",
       "    .dataframe tbody tr th {\n",
       "        vertical-align: top;\n",
       "    }\n",
       "\n",
       "    .dataframe thead th {\n",
       "        text-align: right;\n",
       "    }\n",
       "</style>\n",
       "<table border=\"1\" class=\"dataframe\">\n",
       "  <thead>\n",
       "    <tr style=\"text-align: right;\">\n",
       "      <th></th>\n",
       "      <th>text_id</th>\n",
       "      <th>cohesion</th>\n",
       "      <th>syntax</th>\n",
       "      <th>vocabulary</th>\n",
       "      <th>phraseology</th>\n",
       "      <th>grammar</th>\n",
       "      <th>conventions</th>\n",
       "    </tr>\n",
       "  </thead>\n",
       "  <tbody>\n",
       "    <tr>\n",
       "      <th>0</th>\n",
       "      <td>0000C359D63E</td>\n",
       "      <td>3.0</td>\n",
       "      <td>3.0</td>\n",
       "      <td>3.0</td>\n",
       "      <td>3.0</td>\n",
       "      <td>3.0</td>\n",
       "      <td>3.0</td>\n",
       "    </tr>\n",
       "    <tr>\n",
       "      <th>1</th>\n",
       "      <td>000BAD50D026</td>\n",
       "      <td>3.0</td>\n",
       "      <td>3.0</td>\n",
       "      <td>3.0</td>\n",
       "      <td>3.0</td>\n",
       "      <td>3.0</td>\n",
       "      <td>3.0</td>\n",
       "    </tr>\n",
       "    <tr>\n",
       "      <th>2</th>\n",
       "      <td>00367BB2546B</td>\n",
       "      <td>3.0</td>\n",
       "      <td>3.0</td>\n",
       "      <td>3.0</td>\n",
       "      <td>3.0</td>\n",
       "      <td>3.0</td>\n",
       "      <td>3.0</td>\n",
       "    </tr>\n",
       "  </tbody>\n",
       "</table>\n",
       "</div>"
      ],
      "text/plain": [
       "        text_id  cohesion  syntax  vocabulary  phraseology  grammar  \\\n",
       "0  0000C359D63E       3.0     3.0         3.0          3.0      3.0   \n",
       "1  000BAD50D026       3.0     3.0         3.0          3.0      3.0   \n",
       "2  00367BB2546B       3.0     3.0         3.0          3.0      3.0   \n",
       "\n",
       "   conventions  \n",
       "0          3.0  \n",
       "1          3.0  \n",
       "2          3.0  "
      ]
     },
     "execution_count": 5,
     "metadata": {},
     "output_type": "execute_result"
    }
   ],
   "source": [
    "df_ss.head()"
   ]
  },
  {
   "cell_type": "markdown",
   "id": "919ad463-001e-4299-8780-d517afc0d419",
   "metadata": {},
   "source": [
    "Let's look at example of a training data.\n",
    "\n",
    "We have for each text_id a text and the corresponding grades:"
   ]
  },
  {
   "cell_type": "code",
   "execution_count": 6,
   "id": "3a10e2bf-2634-423b-8c22-b9d405ce0db3",
   "metadata": {},
   "outputs": [
    {
     "data": {
      "text/html": [
       "<div>\n",
       "<style scoped>\n",
       "    .dataframe tbody tr th:only-of-type {\n",
       "        vertical-align: middle;\n",
       "    }\n",
       "\n",
       "    .dataframe tbody tr th {\n",
       "        vertical-align: top;\n",
       "    }\n",
       "\n",
       "    .dataframe thead th {\n",
       "        text-align: right;\n",
       "    }\n",
       "</style>\n",
       "<table border=\"1\" class=\"dataframe\">\n",
       "  <thead>\n",
       "    <tr style=\"text-align: right;\">\n",
       "      <th></th>\n",
       "      <th>0</th>\n",
       "    </tr>\n",
       "  </thead>\n",
       "  <tbody>\n",
       "    <tr>\n",
       "      <th>text_id</th>\n",
       "      <td>0016926B079C</td>\n",
       "    </tr>\n",
       "    <tr>\n",
       "      <th>full_text</th>\n",
       "      <td>I think that students would benefit from learn...</td>\n",
       "    </tr>\n",
       "    <tr>\n",
       "      <th>cohesion</th>\n",
       "      <td>3.5</td>\n",
       "    </tr>\n",
       "    <tr>\n",
       "      <th>syntax</th>\n",
       "      <td>3.5</td>\n",
       "    </tr>\n",
       "    <tr>\n",
       "      <th>vocabulary</th>\n",
       "      <td>3.0</td>\n",
       "    </tr>\n",
       "    <tr>\n",
       "      <th>phraseology</th>\n",
       "      <td>3.0</td>\n",
       "    </tr>\n",
       "    <tr>\n",
       "      <th>grammar</th>\n",
       "      <td>4.0</td>\n",
       "    </tr>\n",
       "    <tr>\n",
       "      <th>conventions</th>\n",
       "      <td>3.0</td>\n",
       "    </tr>\n",
       "  </tbody>\n",
       "</table>\n",
       "</div>"
      ],
      "text/plain": [
       "                                                             0\n",
       "text_id                                           0016926B079C\n",
       "full_text    I think that students would benefit from learn...\n",
       "cohesion                                                   3.5\n",
       "syntax                                                     3.5\n",
       "vocabulary                                                 3.0\n",
       "phraseology                                                3.0\n",
       "grammar                                                    4.0\n",
       "conventions                                                3.0"
      ]
     },
     "execution_count": 6,
     "metadata": {},
     "output_type": "execute_result"
    }
   ],
   "source": [
    "df_trn.head(1).T"
   ]
  },
  {
   "cell_type": "markdown",
   "id": "e7740328-852e-4938-bf21-c6481c53a496",
   "metadata": {},
   "source": [
    "Example of a text:"
   ]
  },
  {
   "cell_type": "code",
   "execution_count": 7,
   "id": "fec5d745-d095-4778-b35e-6b78b85229b5",
   "metadata": {},
   "outputs": [
    {
     "data": {
      "text/plain": [
       "\"I think that students would benefit from learning at home,because they wont have to change and get up early in the morning to shower and do there hair. taking only classes helps them because at there house they'll be pay more attention. they will be comfortable at home.\\n\\nThe hardest part of school is getting ready. you wake up go brush your teeth and go to your closet and look at your cloths. after you think you picked a outfit u go look in the mirror and youll either not like it or you look and see a stain. Then you'll have to change. with the online classes you can wear anything and stay home and you wont need to stress about what to wear.\\n\\nmost students usually take showers before school. they either take it before they sleep or when they wake up. some students do both to smell good. that causes them do miss the bus and effects on there lesson time cause they come late to school. when u have online classes u wont need to miss lessons cause you can get everything set up and go take a shower and when u get out your ready to go.\\n\\nwhen your home your comfortable and you pay attention. it gives then an advantage to be smarter and even pass there classmates on class work. public schools are difficult even if you try. some teacher dont know how to teach it in then way that students understand it. that causes students to fail and they may repeat the class.              \""
      ]
     },
     "execution_count": 7,
     "metadata": {},
     "output_type": "execute_result"
    }
   ],
   "source": [
    "df_trn.iloc[0].full_text"
   ]
  },
  {
   "cell_type": "markdown",
   "id": "1e9ed41c-ab48-4e1e-b3fa-81090546a0dc",
   "metadata": {},
   "source": [
    "Let's look at the distribution of the grades:"
   ]
  },
  {
   "cell_type": "markdown",
   "id": "99d7dce4-5246-485e-914a-6c262390bf52",
   "metadata": {},
   "source": [
    "Let's take a look of the distribution of grades:"
   ]
  },
  {
   "cell_type": "code",
   "execution_count": 8,
   "id": "30c37c1d-df18-4a58-967c-2058ae1eb17c",
   "metadata": {},
   "outputs": [
    {
     "data": {
      "image/png": "[encoded data removed]",
      "text/plain": [
       "<Figure size 864x576 with 6 Axes>"
      ]
     },
     "metadata": {
      "needs_background": "dark"
     },
     "output_type": "display_data"
    }
   ],
   "source": [
    "labels = df_trn.columns[2:]\n",
    "nrow = 3\n",
    "ncol = 2\n",
    "fig, axs = plt.subplots(nrow, ncol, tight_layout=True, figsize = (12,8))\n",
    "for i, ax in enumerate(fig.axes):\n",
    "    ax.hist(df_trn[labels[i]], bins=8);\n",
    "    ax.set_title(labels[i])"
   ]
  },
  {
   "cell_type": "markdown",
   "id": "a2acff26-f5fd-4450-990e-3b976001b954",
   "metadata": {},
   "source": [
    "We can see that there are many medium grades with just a few outliers on the left spectrum.\n",
    "\n",
    "We should probably take this into account when building our training and validation set so that our model is also able to grade a bad student.\n",
    "\n",
    "Let's look at the rough numbers summarized in a pretty looking data frame:"
   ]
  },
  {
   "cell_type": "code",
   "execution_count": 9,
   "id": "b7c6c3b2-9178-418f-819d-9d747493179c",
   "metadata": {},
   "outputs": [
    {
     "data": {
      "text/html": [
       "<div>\n",
       "<style scoped>\n",
       "    .dataframe tbody tr th:only-of-type {\n",
       "        vertical-align: middle;\n",
       "    }\n",
       "\n",
       "    .dataframe tbody tr th {\n",
       "        vertical-align: top;\n",
       "    }\n",
       "\n",
       "    .dataframe thead th {\n",
       "        text-align: right;\n",
       "    }\n",
       "</style>\n",
       "<table border=\"1\" class=\"dataframe\">\n",
       "  <thead>\n",
       "    <tr style=\"text-align: right;\">\n",
       "      <th></th>\n",
       "      <th>cohesion</th>\n",
       "      <th>syntax</th>\n",
       "      <th>vocabulary</th>\n",
       "      <th>phraseology</th>\n",
       "      <th>grammar</th>\n",
       "      <th>conventions</th>\n",
       "    </tr>\n",
       "  </thead>\n",
       "  <tbody>\n",
       "    <tr>\n",
       "      <th>1.0</th>\n",
       "      <td>10</td>\n",
       "      <td>11</td>\n",
       "      <td>2</td>\n",
       "      <td>10</td>\n",
       "      <td>8</td>\n",
       "      <td>15</td>\n",
       "    </tr>\n",
       "    <tr>\n",
       "      <th>1.5</th>\n",
       "      <td>27</td>\n",
       "      <td>29</td>\n",
       "      <td>14</td>\n",
       "      <td>11</td>\n",
       "      <td>20</td>\n",
       "      <td>20</td>\n",
       "    </tr>\n",
       "    <tr>\n",
       "      <th>2.0</th>\n",
       "      <td>315</td>\n",
       "      <td>410</td>\n",
       "      <td>124</td>\n",
       "      <td>350</td>\n",
       "      <td>544</td>\n",
       "      <td>402</td>\n",
       "    </tr>\n",
       "    <tr>\n",
       "      <th>2.5</th>\n",
       "      <td>790</td>\n",
       "      <td>839</td>\n",
       "      <td>528</td>\n",
       "      <td>772</td>\n",
       "      <td>855</td>\n",
       "      <td>784</td>\n",
       "    </tr>\n",
       "    <tr>\n",
       "      <th>3.0</th>\n",
       "      <td>1096</td>\n",
       "      <td>1250</td>\n",
       "      <td>1503</td>\n",
       "      <td>1153</td>\n",
       "      <td>994</td>\n",
       "      <td>1151</td>\n",
       "    </tr>\n",
       "    <tr>\n",
       "      <th>3.5</th>\n",
       "      <td>988</td>\n",
       "      <td>867</td>\n",
       "      <td>1007</td>\n",
       "      <td>929</td>\n",
       "      <td>880</td>\n",
       "      <td>908</td>\n",
       "    </tr>\n",
       "    <tr>\n",
       "      <th>4.0</th>\n",
       "      <td>534</td>\n",
       "      <td>388</td>\n",
       "      <td>577</td>\n",
       "      <td>553</td>\n",
       "      <td>447</td>\n",
       "      <td>484</td>\n",
       "    </tr>\n",
       "    <tr>\n",
       "      <th>4.5</th>\n",
       "      <td>125</td>\n",
       "      <td>100</td>\n",
       "      <td>115</td>\n",
       "      <td>108</td>\n",
       "      <td>134</td>\n",
       "      <td>122</td>\n",
       "    </tr>\n",
       "    <tr>\n",
       "      <th>5.0</th>\n",
       "      <td>26</td>\n",
       "      <td>17</td>\n",
       "      <td>41</td>\n",
       "      <td>25</td>\n",
       "      <td>29</td>\n",
       "      <td>25</td>\n",
       "    </tr>\n",
       "  </tbody>\n",
       "</table>\n",
       "</div>"
      ],
      "text/plain": [
       "     cohesion  syntax  vocabulary  phraseology  grammar  conventions\n",
       "1.0        10      11           2           10        8           15\n",
       "1.5        27      29          14           11       20           20\n",
       "2.0       315     410         124          350      544          402\n",
       "2.5       790     839         528          772      855          784\n",
       "3.0      1096    1250        1503         1153      994         1151\n",
       "3.5       988     867        1007          929      880          908\n",
       "4.0       534     388         577          553      447          484\n",
       "4.5       125     100         115          108      134          122\n",
       "5.0        26      17          41           25       29           25"
      ]
     },
     "execution_count": 9,
     "metadata": {},
     "output_type": "execute_result"
    }
   ],
   "source": [
    "df_trn[labels].apply(pd.value_counts)"
   ]
  },
  {
   "cell_type": "markdown",
   "id": "98dd8c40-acef-4265-81d4-8e0768de7388",
   "metadata": {},
   "source": [
    "Especially of the vocabulary and phraseology we should take care that we sample enough examples from the $\\leq 1.0$ range."
   ]
  },
  {
   "cell_type": "markdown",
   "id": "abcf6d70-cb09-4980-823c-e730a3e4e89e",
   "metadata": {},
   "source": [
    "Another point of interest is the words contained in our texts. Let's check that we don't have extreme outliers as Transformers don't work good for long text inputs:"
   ]
  },
  {
   "cell_type": "code",
   "execution_count": 10,
   "id": "6af6130d-c163-4399-b2fc-82ee15bd673c",
   "metadata": {},
   "outputs": [
    {
     "data": {
      "image/png": "[encoded data removed]",
      "text/plain": [
       "<Figure size 432x288 with 1 Axes>"
      ]
     },
     "metadata": {
      "needs_background": "dark"
     },
     "output_type": "display_data"
    }
   ],
   "source": [
    "df_trn[\"full_text\"].apply(lambda x: len(x.split())).hist();"
   ]
  },
  {
   "cell_type": "markdown",
   "id": "47bf3c3f-1b7f-4f45-8ac6-ab28103f72db",
   "metadata": {},
   "source": [
    "We see that most texts are made of 200-600 words."
   ]
  },
  {
   "cell_type": "markdown",
   "id": "ed7fbaa7-c8db-481c-a22a-2731ed2cb0c7",
   "metadata": {},
   "source": [
    "## Preprocess"
   ]
  },
  {
   "cell_type": "markdown",
   "id": "1c78c249-0404-49d6-8ff0-9691e1dfcc8c",
   "metadata": {},
   "source": [
    "To use the transformers we need a dataset."
   ]
  },
  {
   "cell_type": "code",
   "execution_count": 11,
   "id": "bbc9d7d5-7e34-421d-a9ee-e02a390984db",
   "metadata": {},
   "outputs": [],
   "source": [
    "ds = Dataset.from_pandas(df_trn)"
   ]
  },
  {
   "cell_type": "code",
   "execution_count": 12,
   "id": "89774210-2edf-452f-bc91-4194a2462cf9",
   "metadata": {},
   "outputs": [
    {
     "data": {
      "text/plain": [
       "Dataset({\n",
       "    features: ['text_id', 'full_text', 'cohesion', 'syntax', 'vocabulary', 'phraseology', 'grammar', 'conventions'],\n",
       "    num_rows: 3911\n",
       "})"
      ]
     },
     "execution_count": 12,
     "metadata": {},
     "output_type": "execute_result"
    }
   ],
   "source": [
    "ds"
   ]
  },
  {
   "cell_type": "markdown",
   "id": "022390ea-f291-4ee6-b9cc-dae129509e57",
   "metadata": {},
   "source": [
    "What exactly is a dataset?\n",
    "\n",
    "Let's explore."
   ]
  },
  {
   "cell_type": "markdown",
   "id": "6e52d93c-dafe-411b-8680-fc2f7279f274",
   "metadata": {},
   "source": [
    "We have an Attribut `column_name`"
   ]
  },
  {
   "cell_type": "code",
   "execution_count": 13,
   "id": "ddd7efb7-9886-4b99-bee6-9233481fd848",
   "metadata": {},
   "outputs": [
    {
     "data": {
      "text/plain": [
       "['text_id',\n",
       " 'full_text',\n",
       " 'cohesion',\n",
       " 'syntax',\n",
       " 'vocabulary',\n",
       " 'phraseology',\n",
       " 'grammar',\n",
       " 'conventions']"
      ]
     },
     "execution_count": 13,
     "metadata": {},
     "output_type": "execute_result"
    }
   ],
   "source": [
    "ds.column_names"
   ]
  },
  {
   "cell_type": "markdown",
   "id": "661dfccf-82a4-4566-855f-30cbd2f7089f",
   "metadata": {},
   "source": [
    "With `ds[i]`we can get the i'th element"
   ]
  },
  {
   "cell_type": "code",
   "execution_count": 14,
   "id": "078c9391-42be-4de9-9b52-01cb72ee3c1b",
   "metadata": {},
   "outputs": [
    {
     "data": {
      "text/plain": [
       "{'text_id': '0016926B079C',\n",
       " 'full_text': \"I think that students would benefit from learning at home,because they wont have to change and get up early in the morning to shower and do there hair. taking only classes helps them because at there house they'll be pay more attention. they will be comfortable at home.\\n\\nThe hardest part of school is getting ready. you wake up go brush your teeth and go to your closet and look at your cloths. after you think you picked a outfit u go look in the mirror and youll either not like it or you look and see a stain. Then you'll have to change. with the online classes you can wear anything and stay home and you wont need to stress about what to wear.\\n\\nmost students usually take showers before school. they either take it before they sleep or when they wake up. some students do both to smell good. that causes them do miss the bus and effects on there lesson time cause they come late to school. when u have online classes u wont need to miss lessons cause you can get everything set up and go take a shower and when u get out your ready to go.\\n\\nwhen your home your comfortable and you pay attention. it gives then an advantage to be smarter and even pass there classmates on class work. public schools are difficult even if you try. some teacher dont know how to teach it in then way that students understand it. that causes students to fail and they may repeat the class.              \",\n",
       " 'cohesion': 3.5,\n",
       " 'syntax': 3.5,\n",
       " 'vocabulary': 3.0,\n",
       " 'phraseology': 3.0,\n",
       " 'grammar': 4.0,\n",
       " 'conventions': 3.0}"
      ]
     },
     "execution_count": 14,
     "metadata": {},
     "output_type": "execute_result"
    }
   ],
   "source": [
    "ds[0]"
   ]
  },
  {
   "cell_type": "markdown",
   "id": "4f547b22-fab5-48fa-846f-ba538d6fa908",
   "metadata": {},
   "source": [
    "Let's initialize our tokenizer:"
   ]
  },
  {
   "cell_type": "code",
   "execution_count": 15,
   "id": "71f577e0-3411-4e81-97bc-8ad2c1e6abe3",
   "metadata": {},
   "outputs": [],
   "source": [
    "model_nm = 'microsoft/deberta-v3-small'"
   ]
  },
  {
   "cell_type": "code",
   "execution_count": 16,
   "id": "7e370985-1e14-4dda-b39b-3dd45bbcdb6a",
   "metadata": {},
   "outputs": [
    {
     "name": "stderr",
     "output_type": "stream",
     "text": [
      "Special tokens have been added in the vocabulary, make sure the associated word embeddings are fine-tuned or trained.\n",
      "/usr/local/lib/python3.9/dist-packages/transformers/convert_slow_tokenizer.py:434: UserWarning: The sentencepiece tokenizer that you are converting to a fast tokenizer uses the byte fallback option which is not implemented in the fast tokenizers. In practice this means that the fast version of the tokenizer can produce unknown tokens whereas the sentencepiece version would have converted these unknown tokens into a sequence of byte tokens matching the original piece of text.\n",
      "  warnings.warn(\n",
      "Special tokens have been added in the vocabulary, make sure the associated word embeddings are fine-tuned or trained.\n"
     ]
    }
   ],
   "source": [
    "tokz = AutoTokenizer.from_pretrained(model_nm)"
   ]
  },
  {
   "cell_type": "markdown",
   "id": "99d86976-c9c4-44c9-a0b2-86dc787d7870",
   "metadata": {},
   "source": [
    "Let's see how exactly this works:"
   ]
  },
  {
   "cell_type": "code",
   "execution_count": 17,
   "id": "20488417-ab3b-45eb-8498-d89a3d8593ff",
   "metadata": {},
   "outputs": [
    {
     "data": {
      "text/plain": [
       "['▁I', '▁want', '▁to', '▁get', '▁token', 'ized', '!']"
      ]
     },
     "execution_count": 17,
     "metadata": {},
     "output_type": "execute_result"
    }
   ],
   "source": [
    "tokz.tokenize(\"I want to get tokenized!\")"
   ]
  },
  {
   "cell_type": "markdown",
   "id": "db9378c3-10b7-43b8-9eee-22f8db511e03",
   "metadata": {},
   "source": [
    "We can encode..."
   ]
  },
  {
   "cell_type": "code",
   "execution_count": 18,
   "id": "56dc646b-ca00-42a6-8e66-2ffa6a8b03ef",
   "metadata": {},
   "outputs": [
    {
     "data": {
      "text/plain": [
       "[1, 273, 409, 264, 350, 10704, 4666, 300, 2]"
      ]
     },
     "execution_count": 18,
     "metadata": {},
     "output_type": "execute_result"
    }
   ],
   "source": [
    "enc = tokz.encode((\"I want to get tokenized!\"))\n",
    "enc"
   ]
  },
  {
   "cell_type": "markdown",
   "id": "d3c5a7c0-aa0a-4152-bca6-c6141e30bbb0",
   "metadata": {},
   "source": [
    "... and decode"
   ]
  },
  {
   "cell_type": "code",
   "execution_count": 19,
   "id": "1a79ce76-d389-4dbf-990e-717ec47ec125",
   "metadata": {},
   "outputs": [
    {
     "data": {
      "text/plain": [
       "'[CLS] I want to get tokenized![SEP]'"
      ]
     },
     "execution_count": 19,
     "metadata": {},
     "output_type": "execute_result"
    }
   ],
   "source": [
    "tokz.decode(enc)"
   ]
  },
  {
   "cell_type": "markdown",
   "id": "61bba764-9107-499a-82bb-5dad9381cc8d",
   "metadata": {},
   "source": [
    "Now we need to do 2 things:\n",
    "* tokenize our data, that means transforming the text into some form the computer can process\n",
    "* initialize our multi label for the model."
   ]
  },
  {
   "cell_type": "markdown",
   "id": "a7e20f7d-86e2-4b4d-8c77-b0c4d07b2867",
   "metadata": {},
   "source": [
    "Let's first tackle the problem of generating categories:\n",
    "* We One hot encode\n",
    "* We use the resulting df to generate our dataset!"
   ]
  },
  {
   "cell_type": "code",
   "execution_count": 20,
   "id": "17808c5f-28c6-4ca4-93c7-d5b0af112ba6",
   "metadata": {},
   "outputs": [],
   "source": [
    "tempdf = pd.get_dummies(df_trn, columns=labels)"
   ]
  },
  {
   "cell_type": "code",
   "execution_count": 21,
   "id": "e0f1f223-d2ba-4525-9ffb-fe9e774b1ea7",
   "metadata": {},
   "outputs": [],
   "source": [
    "ds = Dataset.from_pandas(tempdf)"
   ]
  },
  {
   "cell_type": "markdown",
   "id": "1d0559b3-a63d-4519-983a-f0d2fcc34e4f",
   "metadata": {},
   "source": [
    "Split in training and validation!"
   ]
  },
  {
   "cell_type": "code",
   "execution_count": 22,
   "id": "99fa3b99-1237-41c5-84f6-38764c650f78",
   "metadata": {},
   "outputs": [],
   "source": [
    "ds_d = ds.train_test_split(0.25, seed=42)"
   ]
  },
  {
   "cell_type": "markdown",
   "id": "efc79420-390b-4e5e-b617-2a6128505071",
   "metadata": {},
   "source": [
    "Mapping between labels and integers"
   ]
  },
  {
   "cell_type": "code",
   "execution_count": 23,
   "id": "2f1137e1-68e8-438e-bc28-da0703faa711",
   "metadata": {},
   "outputs": [
    {
     "data": {
      "text/plain": [
       "['cohesion_1.0',\n",
       " 'cohesion_1.5',\n",
       " 'cohesion_2.0',\n",
       " 'cohesion_2.5',\n",
       " 'cohesion_3.0']"
      ]
     },
     "execution_count": 23,
     "metadata": {},
     "output_type": "execute_result"
    }
   ],
   "source": [
    "labels = [label for label in ds_d['train'].features.keys() if label not in ['text_id', 'full_text']]\n",
    "id2label = {idx:label for idx, label in enumerate(labels)}\n",
    "label2id = {label:idx for idx, label in enumerate(labels)}\n",
    "labels[:5]"
   ]
  },
  {
   "cell_type": "code",
   "execution_count": 24,
   "id": "843971c7-1cc4-45ee-98f5-d62b714d7a85",
   "metadata": {},
   "outputs": [],
   "source": [
    "def preprocess_data(examples):\n",
    "    # take a batch of texts\n",
    "    text = examples[\"full_text\"]\n",
    "    # encode them\n",
    "    encoding = tokz(text, padding=\"max_length\", truncation=True, max_length=128)\n",
    "    # add labels\n",
    "    labels_batch = {k: examples[k] for k in examples.keys() if k in labels}\n",
    "    # create numpy array of shape (batch_size, num_labels)\n",
    "    labels_matrix = np.zeros((len(text), len(labels)))\n",
    "    # fill numpy array\n",
    "    for idx, label in enumerate(labels):\n",
    "        labels_matrix[:, idx] = labels_batch[label]\n",
    "\n",
    "    encoding[\"labels\"] = labels_matrix.tolist()\n",
    "  \n",
    "    return encoding"
   ]
  },
  {
   "cell_type": "code",
   "execution_count": 25,
   "id": "10405feb-db2c-4786-9196-9ee2d78a6400",
   "metadata": {},
   "outputs": [
    {
     "name": "stderr",
     "output_type": "stream",
     "text": [
      "Parameter 'function'=<function preprocess_data at 0x7fac4afecc10> of the transform datasets.arrow_dataset.Dataset._map_single couldn't be hashed properly, a random hash was used instead. Make sure your transforms and parameters are serializable with pickle or dill for the dataset fingerprinting and caching to work. If you reuse this transform, the caching mechanism will consider it to be different from the previous calls and recompute everything. This warning is only showed once. Subsequent hashing failures won't be showed.\n"
     ]
    },
    {
     "data": {
      "application/vnd.jupyter.widget-view+json": {
       "model_id": "e5fc7981725245bd80335f045f9ec0b7",
       "version_major": 2,
       "version_minor": 0
      },
      "text/plain": [
       "  0%|          | 0/3 [00:00<?, ?ba/s]"
      ]
     },
     "metadata": {},
     "output_type": "display_data"
    },
    {
     "data": {
      "application/vnd.jupyter.widget-view+json": {
       "model_id": "c35135ece9dd4729b5d3f7fc86ffc88e",
       "version_major": 2,
       "version_minor": 0
      },
      "text/plain": [
       "  0%|          | 0/1 [00:00<?, ?ba/s]"
      ]
     },
     "metadata": {},
     "output_type": "display_data"
    }
   ],
   "source": [
    "enc_ds_d = ds_d.map(preprocess_data, batched=True, remove_columns=ds_d['train'].column_names)"
   ]
  },
  {
   "cell_type": "code",
   "execution_count": 26,
   "id": "07539bc2-b98b-4b86-970a-837bcd0f029c",
   "metadata": {},
   "outputs": [
    {
     "data": {
      "text/plain": [
       "DatasetDict({\n",
       "    train: Dataset({\n",
       "        features: ['input_ids', 'token_type_ids', 'attention_mask', 'labels'],\n",
       "        num_rows: 2933\n",
       "    })\n",
       "    test: Dataset({\n",
       "        features: ['input_ids', 'token_type_ids', 'attention_mask', 'labels'],\n",
       "        num_rows: 978\n",
       "    })\n",
       "})"
      ]
     },
     "execution_count": 26,
     "metadata": {},
     "output_type": "execute_result"
    }
   ],
   "source": [
    "enc_ds_d"
   ]
  },
  {
   "cell_type": "markdown",
   "id": "c9a69459-9053-487e-8344-59e4d8e82d1d",
   "metadata": {},
   "source": [
    "Split in train and validation set"
   ]
  },
  {
   "cell_type": "markdown",
   "id": "b1efe450-e4a4-481c-8027-3e161f092218",
   "metadata": {},
   "source": [
    "## Training"
   ]
  },
  {
   "cell_type": "markdown",
   "id": "6d9f0b4f-264a-4d73-a664-91d59ea9da22",
   "metadata": {},
   "source": [
    "Setting up the metric..."
   ]
  },
  {
   "cell_type": "code",
   "execution_count": 27,
   "id": "780a8cc7-8320-4fdd-bfc4-d84a64935aee",
   "metadata": {},
   "outputs": [],
   "source": [
    "def mcrmse(x,y): return np.mean(np.sqrt(np.mean((x-y)**2,axis=0)))"
   ]
  },
  {
   "cell_type": "code",
   "execution_count": 28,
   "id": "ae96a31e-4e7a-4abf-8c43-2bbccc64a3e5",
   "metadata": {},
   "outputs": [],
   "source": [
    "x1 = np.array([[1,1],[0,0]])\n",
    "x2 = np.array([[1,0],[0,1]])"
   ]
  },
  {
   "cell_type": "code",
   "execution_count": 29,
   "id": "99c4628f-5e23-4013-b291-e30dc7bfe54f",
   "metadata": {},
   "outputs": [
    {
     "data": {
      "text/plain": [
       "0.5"
      ]
     },
     "execution_count": 29,
     "metadata": {},
     "output_type": "execute_result"
    }
   ],
   "source": [
    "mcrmse(x1,x2)"
   ]
  },
  {
   "cell_type": "code",
   "execution_count": 30,
   "id": "6dbb7a85-9136-484b-97d6-1671ee0f4b8d",
   "metadata": {},
   "outputs": [],
   "source": [
    "def mcrmse_d(eval_pred): return {'mcrmse': mcrmse(*eval_pred)}"
   ]
  },
  {
   "cell_type": "code",
   "execution_count": 31,
   "id": "52cf58b8-ee3f-413e-b7fb-83595af4575b",
   "metadata": {},
   "outputs": [],
   "source": [
    "from transformers import TrainingArguments,Trainer"
   ]
  },
  {
   "cell_type": "markdown",
   "id": "8c6d98d4-e4b3-4d21-86a8-aef776df4ffb",
   "metadata": {},
   "source": [
    "...Batch size and metric name..."
   ]
  },
  {
   "cell_type": "code",
   "execution_count": 32,
   "id": "04eef77b-05ab-424d-a416-1243bea9a590",
   "metadata": {},
   "outputs": [],
   "source": [
    "batch_size = 8\n",
    "metric_name = \"mcrmse\""
   ]
  },
  {
   "cell_type": "markdown",
   "id": "20e241c8-9289-4b68-8236-d7e7970726d1",
   "metadata": {},
   "source": [
    "...the arguments..."
   ]
  },
  {
   "cell_type": "code",
   "execution_count": 33,
   "id": "fc214e27-280a-4564-a5d7-a165b4209bc4",
   "metadata": {},
   "outputs": [],
   "source": [
    "args = TrainingArguments(\n",
    "    f\"outputs\",\n",
    "    evaluation_strategy = \"epoch\",\n",
    "    save_strategy = \"epoch\",\n",
    "    learning_rate=8e-5,\n",
    "    per_device_train_batch_size=batch_size,\n",
    "    per_device_eval_batch_size=batch_size,\n",
    "    num_train_epochs=5,\n",
    "    weight_decay=0.01,\n",
    "    load_best_model_at_end=True,\n",
    "    metric_for_best_model=metric_name,\n",
    "    #push_to_hub=True,\n",
    ")"
   ]
  },
  {
   "cell_type": "code",
   "execution_count": 34,
   "id": "02dfff1b-9835-43a2-8006-c35f28c108c8",
   "metadata": {},
   "outputs": [],
   "source": [
    "from sklearn.metrics import f1_score, roc_auc_score, accuracy_score\n",
    "from transformers import EvalPrediction\n",
    "import torch\n",
    "    \n",
    "# source: https://jesusleal.io/2021/04/21/Longformer-multilabel-classification/\n",
    "def multi_label_metrics(predictions, labels, threshold=0.5):\n",
    "    # first, apply sigmoid on predictions which are of shape (batch_size, num_labels)\n",
    "    sigmoid = torch.nn.Sigmoid()\n",
    "    probs = sigmoid(torch.Tensor(predictions))\n",
    "    # next, use threshold to turn them into integer predictions\n",
    "    y_pred = np.zeros(probs.shape)\n",
    "    y_pred[np.where(probs >= threshold)] = 1\n",
    "    # finally, compute metrics\n",
    "    y_true = labels\n",
    "    mcrmse_acc = mcrmse(y_true, y_pred)\n",
    "    # return as dictionary\n",
    "    metrics = {'mcrmse': mcrmse_acc}\n",
    "    return metrics\n",
    "\n",
    "def compute_metrics(p: EvalPrediction):\n",
    "    preds = p.predictions[0] if isinstance(p.predictions, \n",
    "            tuple) else p.predictions\n",
    "    result = multi_label_metrics(\n",
    "        predictions=preds, \n",
    "        labels=p.label_ids)\n",
    "    return result"
   ]
  },
  {
   "cell_type": "markdown",
   "id": "2b1bd3e8-c74e-46f6-b8c2-36c693dab13a",
   "metadata": {},
   "source": [
    "...the model..."
   ]
  },
  {
   "cell_type": "code",
   "execution_count": 35,
   "id": "cd6e1a91-8f59-4ecb-9926-dae41b6634c1",
   "metadata": {},
   "outputs": [
    {
     "name": "stderr",
     "output_type": "stream",
     "text": [
      "Some weights of the model checkpoint at microsoft/deberta-v3-small were not used when initializing DebertaV2ForSequenceClassification: ['mask_predictions.dense.bias', 'mask_predictions.LayerNorm.weight', 'mask_predictions.classifier.bias', 'lm_predictions.lm_head.bias', 'lm_predictions.lm_head.dense.bias', 'mask_predictions.dense.weight', 'lm_predictions.lm_head.LayerNorm.weight', 'lm_predictions.lm_head.dense.weight', 'lm_predictions.lm_head.LayerNorm.bias', 'mask_predictions.classifier.weight', 'mask_predictions.LayerNorm.bias']\n",
      "- This IS expected if you are initializing DebertaV2ForSequenceClassification from the checkpoint of a model trained on another task or with another architecture (e.g. initializing a BertForSequenceClassification model from a BertForPreTraining model).\n",
      "- This IS NOT expected if you are initializing DebertaV2ForSequenceClassification from the checkpoint of a model that you expect to be exactly identical (initializing a BertForSequenceClassification model from a BertForSequenceClassification model).\n",
      "Some weights of DebertaV2ForSequenceClassification were not initialized from the model checkpoint at microsoft/deberta-v3-small and are newly initialized: ['classifier.weight', 'pooler.dense.bias', 'pooler.dense.weight', 'classifier.bias']\n",
      "You should probably TRAIN this model on a down-stream task to be able to use it for predictions and inference.\n"
     ]
    }
   ],
   "source": [
    "from transformers import AutoModelForSequenceClassification\n",
    "\n",
    "model = AutoModelForSequenceClassification.from_pretrained(model_nm, \n",
    "                                                           problem_type=\"multi_label_classification\", \n",
    "                                                           num_labels=len(labels),\n",
    "                                                           id2label=id2label,\n",
    "                                                           label2id=label2id)"
   ]
  },
  {
   "cell_type": "markdown",
   "id": "ff7131a1-34c6-4acf-858d-2853198a8389",
   "metadata": {},
   "source": [
    "## TRAIN!"
   ]
  },
  {
   "cell_type": "code",
   "execution_count": 36,
   "id": "df7e1066-da17-4be7-bc7a-cc396b25dda0",
   "metadata": {},
   "outputs": [],
   "source": [
    "enc_ds_d.set_format(\"torch\")"
   ]
  },
  {
   "cell_type": "markdown",
   "id": "889b4938-7f0e-4f59-9b4b-838297118db5",
   "metadata": {},
   "source": [
    "Let's verify a batch as well as a forward pass:"
   ]
  },
  {
   "cell_type": "code",
   "execution_count": 37,
   "id": "2095c76c-de85-42a1-a343-c13a01231d88",
   "metadata": {},
   "outputs": [
    {
     "data": {
      "text/plain": [
       "'torch.FloatTensor'"
      ]
     },
     "execution_count": 37,
     "metadata": {},
     "output_type": "execute_result"
    }
   ],
   "source": [
    "enc_ds_d['train'][0]['labels'].type()"
   ]
  },
  {
   "cell_type": "code",
   "execution_count": 38,
   "id": "194f7504-4ce6-40ce-bd48-c1c24a2a6e36",
   "metadata": {},
   "outputs": [
    {
     "data": {
      "text/plain": [
       "tensor([    1,  4136,   269,   311,   265,   262,   370,   874,   470,   267,\n",
       "          291,   447,   260,  4136,   303,  1738,   265,  1451,   261,   306,\n",
       "          286,   610,  6135,  4986,   334,  2858,  8202,   261,  7934,   261,\n",
       "        13381,   795,  8202,   261,   263,   386,   310,   260,   450,   286,\n",
       "          610, 34772,   272,   783,   360,   803,   261,   528,   355,   261,\n",
       "          306,   402,   286,   347,  1085,   830,   334,   306,   286,   286,\n",
       "         1090,  8926, 16224,  1013,   262,  8425,   261,   311,   265,   349,\n",
       "          303,   266,  2553,  1013,   260,  1414,   273,   338,  3753,   288,\n",
       "         4136,   273,   338,   472,   264,   687,   308,   645,   401,   273,\n",
       "         1331,   308,   645,   284,   397,   324,  1964,   273, 40756,   834,\n",
       "        31452,   278,   322,   263,   262,   645,  1127,   324, 12516,   263,\n",
       "         7741,   260,   273,   338,   327,   472,   264,  2224,   277,   266,\n",
       "         2750,   263,  5771,   390,   262,   707,   260,     2])"
      ]
     },
     "execution_count": 38,
     "metadata": {},
     "output_type": "execute_result"
    }
   ],
   "source": [
    "enc_ds_d['train']['input_ids'][0]"
   ]
  },
  {
   "cell_type": "code",
   "execution_count": 39,
   "id": "dd2b8c38-4064-49cc-81fc-3729555139a9",
   "metadata": {},
   "outputs": [
    {
     "data": {
      "text/plain": [
       "SequenceClassifierOutput(loss=tensor(0.6910, grad_fn=<BinaryCrossEntropyWithLogitsBackward0>), logits=tensor([[ 0.1523,  0.1020,  0.0271, -0.0094, -0.0423,  0.1312, -0.1664,  0.2214,\n",
       "          0.1243,  0.0934, -0.0382, -0.1368, -0.1676,  0.0055, -0.2820, -0.0138,\n",
       "          0.1081, -0.1334, -0.1276, -0.0073,  0.0665,  0.3525, -0.2512,  0.1544,\n",
       "          0.1957,  0.2246,  0.1495, -0.0065, -0.1206, -0.0391,  0.0098,  0.0422,\n",
       "         -0.1200,  0.1003, -0.0925, -0.0526,  0.0683, -0.2110,  0.0239,  0.1355,\n",
       "          0.2869,  0.0020, -0.1044, -0.4394,  0.2157, -0.1819,  0.0900, -0.0036,\n",
       "         -0.0499, -0.2271,  0.0909, -0.1022, -0.1857,  0.1304]],\n",
       "       grad_fn=<AddmmBackward0>), hidden_states=None, attentions=None)"
      ]
     },
     "execution_count": 39,
     "metadata": {},
     "output_type": "execute_result"
    }
   ],
   "source": [
    "#forward pass\n",
    "outputs = model(input_ids=enc_ds_d['train']['input_ids'][0].unsqueeze(0), labels=enc_ds_d['train'][0]['labels'].unsqueeze(0))\n",
    "outputs"
   ]
  },
  {
   "cell_type": "code",
   "execution_count": 40,
   "id": "0e9fceec-6498-4a76-b83a-303c90b90fb2",
   "metadata": {},
   "outputs": [],
   "source": [
    "trainer = Trainer(\n",
    "    model,\n",
    "    args,\n",
    "    train_dataset=enc_ds_d[\"train\"],\n",
    "    eval_dataset=enc_ds_d[\"test\"],\n",
    "    tokenizer=tokz,\n",
    "    compute_metrics=compute_metrics\n",
    ")"
   ]
  },
  {
   "cell_type": "code",
   "execution_count": 41,
   "id": "86360e24-896a-4a89-80ac-d9097d985ebc",
   "metadata": {},
   "outputs": [
    {
     "name": "stderr",
     "output_type": "stream",
     "text": [
      "/usr/local/lib/python3.9/dist-packages/transformers/optimization.py:306: FutureWarning: This implementation of AdamW is deprecated and will be removed in a future version. Use the PyTorch implementation torch.optim.AdamW instead, or set `no_deprecation_warning=True` to disable this warning\n",
      "  warnings.warn(\n",
      "***** Running training *****\n",
      "  Num examples = 2933\n",
      "  Num Epochs = 5\n",
      "  Instantaneous batch size per device = 8\n",
      "  Total train batch size (w. parallel, distributed & accumulation) = 8\n",
      "  Gradient Accumulation steps = 1\n",
      "  Total optimization steps = 1835\n"
     ]
    },
    {
     "data": {
      "text/html": [
       "\n",
       "    <div>\n",
       "      \n",
       "      <progress value='1835' max='1835' style='width:300px; height:20px; vertical-align: middle;'></progress>\n",
       "      [1835/1835 06:54, Epoch 5/5]\n",
       "    </div>\n",
       "    <table border=\"1\" class=\"dataframe\">\n",
       "  <thead>\n",
       " <tr style=\"text-align: left;\">\n",
       "      <th>Epoch</th>\n",
       "      <th>Training Loss</th>\n",
       "      <th>Validation Loss</th>\n",
       "      <th>Mcrmse</th>\n",
       "    </tr>\n",
       "  </thead>\n",
       "  <tbody>\n",
       "    <tr>\n",
       "      <td>1</td>\n",
       "      <td>No log</td>\n",
       "      <td>0.285186</td>\n",
       "      <td>0.276595</td>\n",
       "    </tr>\n",
       "    <tr>\n",
       "      <td>2</td>\n",
       "      <td>0.294300</td>\n",
       "      <td>0.262396</td>\n",
       "      <td>0.277009</td>\n",
       "    </tr>\n",
       "    <tr>\n",
       "      <td>3</td>\n",
       "      <td>0.256900</td>\n",
       "      <td>0.258025</td>\n",
       "      <td>0.276918</td>\n",
       "    </tr>\n",
       "    <tr>\n",
       "      <td>4</td>\n",
       "      <td>0.256900</td>\n",
       "      <td>0.264292</td>\n",
       "      <td>0.277865</td>\n",
       "    </tr>\n",
       "    <tr>\n",
       "      <td>5</td>\n",
       "      <td>0.237500</td>\n",
       "      <td>0.268947</td>\n",
       "      <td>0.280089</td>\n",
       "    </tr>\n",
       "  </tbody>\n",
       "</table><p>"
      ],
      "text/plain": [
       "<IPython.core.display.HTML object>"
      ]
     },
     "metadata": {},
     "output_type": "display_data"
    },
    {
     "name": "stderr",
     "output_type": "stream",
     "text": [
      "***** Running Evaluation *****\n",
      "  Num examples = 978\n",
      "  Batch size = 8\n",
      "Saving model checkpoint to outputs/checkpoint-367\n",
      "Configuration saved in outputs/checkpoint-367/config.json\n",
      "Model weights saved in outputs/checkpoint-367/pytorch_model.bin\n",
      "tokenizer config file saved in outputs/checkpoint-367/tokenizer_config.json\n",
      "Special tokens file saved in outputs/checkpoint-367/special_tokens_map.json\n",
      "***** Running Evaluation *****\n",
      "  Num examples = 978\n",
      "  Batch size = 8\n",
      "Saving model checkpoint to outputs/checkpoint-734\n",
      "Configuration saved in outputs/checkpoint-734/config.json\n",
      "Model weights saved in outputs/checkpoint-734/pytorch_model.bin\n",
      "tokenizer config file saved in outputs/checkpoint-734/tokenizer_config.json\n",
      "Special tokens file saved in outputs/checkpoint-734/special_tokens_map.json\n",
      "***** Running Evaluation *****\n",
      "  Num examples = 978\n",
      "  Batch size = 8\n",
      "Saving model checkpoint to outputs/checkpoint-1101\n",
      "Configuration saved in outputs/checkpoint-1101/config.json\n",
      "Model weights saved in outputs/checkpoint-1101/pytorch_model.bin\n",
      "tokenizer config file saved in outputs/checkpoint-1101/tokenizer_config.json\n",
      "Special tokens file saved in outputs/checkpoint-1101/special_tokens_map.json\n",
      "***** Running Evaluation *****\n",
      "  Num examples = 978\n",
      "  Batch size = 8\n",
      "Saving model checkpoint to outputs/checkpoint-1468\n",
      "Configuration saved in outputs/checkpoint-1468/config.json\n",
      "Model weights saved in outputs/checkpoint-1468/pytorch_model.bin\n",
      "tokenizer config file saved in outputs/checkpoint-1468/tokenizer_config.json\n",
      "Special tokens file saved in outputs/checkpoint-1468/special_tokens_map.json\n",
      "***** Running Evaluation *****\n",
      "  Num examples = 978\n",
      "  Batch size = 8\n",
      "Saving model checkpoint to outputs/checkpoint-1835\n",
      "Configuration saved in outputs/checkpoint-1835/config.json\n",
      "Model weights saved in outputs/checkpoint-1835/pytorch_model.bin\n",
      "tokenizer config file saved in outputs/checkpoint-1835/tokenizer_config.json\n",
      "Special tokens file saved in outputs/checkpoint-1835/special_tokens_map.json\n",
      "\n",
      "\n",
      "Training completed. Do not forget to share your model on huggingface.co/models =)\n",
      "\n",
      "\n",
      "Loading best model from outputs/checkpoint-1835 (score: 0.2800890973793673).\n"
     ]
    },
    {
     "data": {
      "text/plain": [
       "TrainOutput(global_step=1835, training_loss=0.2556868800025545, metrics={'train_runtime': 414.8279, 'train_samples_per_second': 35.352, 'train_steps_per_second': 4.424, 'total_flos': 486126273507840.0, 'train_loss': 0.2556868800025545, 'epoch': 5.0})"
      ]
     },
     "execution_count": 41,
     "metadata": {},
     "output_type": "execute_result"
    }
   ],
   "source": [
    "trainer.train()"
   ]
  },
  {
   "cell_type": "markdown",
   "id": "19801843-4e56-45b7-8a55-ea5a7d8b6a94",
   "metadata": {},
   "source": [
    "## Predict"
   ]
  },
  {
   "cell_type": "markdown",
   "id": "8bd0fd8a-a49a-4752-9f82-e1ebcf1e5e09",
   "metadata": {},
   "source": [
    "Set up dataset"
   ]
  },
  {
   "cell_type": "code",
   "execution_count": 42,
   "id": "5cebab2e-d455-486d-9844-0c9e448f3372",
   "metadata": {},
   "outputs": [],
   "source": [
    "def tok_func(x): return tokz(x[\"full_text\"])"
   ]
  },
  {
   "cell_type": "code",
   "execution_count": 43,
   "id": "6740ec8c-470b-4913-b162-41f29b5a3a06",
   "metadata": {},
   "outputs": [],
   "source": [
    "ds_tst = Dataset.from_pandas(df_tst)"
   ]
  },
  {
   "cell_type": "code",
   "execution_count": 44,
   "id": "38b23a27-5a5b-417f-85aa-3461af0673c4",
   "metadata": {},
   "outputs": [
    {
     "data": {
      "application/vnd.jupyter.widget-view+json": {
       "model_id": "83d362353bb5461aac1130f7abdd1fb9",
       "version_major": 2,
       "version_minor": 0
      },
      "text/plain": [
       "  0%|          | 0/1 [00:00<?, ?ba/s]"
      ]
     },
     "metadata": {},
     "output_type": "display_data"
    }
   ],
   "source": [
    "eval_ds = ds_tst.map(tok_func, batched=True, remove_columns=[\"text_id\",\"full_text\"])"
   ]
  },
  {
   "cell_type": "markdown",
   "id": "22c21764-8816-4405-82ca-3e6109f43bee",
   "metadata": {},
   "source": [
    "An example for a text in the test set."
   ]
  },
  {
   "cell_type": "code",
   "execution_count": 45,
   "id": "8c7fe3ba-07a5-4d1f-8ebf-21df6293b54b",
   "metadata": {},
   "outputs": [
    {
     "data": {
      "text/plain": [
       "'when a person has no experienc'"
      ]
     },
     "execution_count": 45,
     "metadata": {},
     "output_type": "execute_result"
    }
   ],
   "source": [
    "ds_tst[0][\"full_text\"][:30]"
   ]
  },
  {
   "cell_type": "code",
   "execution_count": 46,
   "id": "edd08a08-93be-4464-8544-1ce3a25a759c",
   "metadata": {},
   "outputs": [],
   "source": [
    "text = ds_tst[0][\"full_text\"]\n",
    "encoding = tokz(text, return_tensors=\"pt\")\n",
    "encoding = {k: v.to(trainer.model.device) for k,v in encoding.items()}\n",
    "\n",
    "outputs = trainer.model(**encoding)"
   ]
  },
  {
   "cell_type": "markdown",
   "id": "72ced3c4-3b28-42e3-a7f0-ecb0f01cec3b",
   "metadata": {},
   "source": [
    "Lets convert the model outputs to probabilities!"
   ]
  },
  {
   "cell_type": "code",
   "execution_count": 47,
   "id": "1eb175f9-b313-4504-aa9b-accc7b0cdac1",
   "metadata": {},
   "outputs": [
    {
     "data": {
      "text/plain": [
       "torch.Size([1, 54])"
      ]
     },
     "execution_count": 47,
     "metadata": {},
     "output_type": "execute_result"
    }
   ],
   "source": [
    "logits = outputs.logits\n",
    "logits.shape"
   ]
  },
  {
   "cell_type": "code",
   "execution_count": 48,
   "id": "65858abe-c926-4914-b015-a78ab6d5689e",
   "metadata": {},
   "outputs": [],
   "source": [
    "# apply sigmoid + threshold\n",
    "sigmoid = torch.nn.Sigmoid()\n",
    "probs = sigmoid(logits.squeeze().cpu())"
   ]
  },
  {
   "cell_type": "markdown",
   "id": "ad37f6b1-9fcf-497f-8523-f68159ceddc8",
   "metadata": {},
   "source": [
    "In each column the probability for each grade in category!"
   ]
  },
  {
   "cell_type": "code",
   "execution_count": 49,
   "id": "192f50c6-fd46-4393-b989-7deea1adf213",
   "metadata": {},
   "outputs": [
    {
     "data": {
      "text/plain": [
       "tensor([[1.3449e-03, 4.0534e-03, 1.9329e-01, 4.4354e-01, 2.9212e-01, 5.5185e-02,\n",
       "         4.2550e-03, 9.5515e-04, 2.5638e-04],\n",
       "        [8.3035e-04, 4.3410e-03, 2.6706e-01, 5.0903e-01, 2.1249e-01, 1.7460e-02,\n",
       "         2.2924e-03, 3.5820e-04, 1.7877e-04],\n",
       "        [3.1327e-04, 1.2887e-03, 4.9035e-02, 3.4472e-01, 5.9424e-01, 3.5466e-02,\n",
       "         5.9954e-03, 6.2657e-04, 3.3844e-04],\n",
       "        [1.1110e-03, 1.2210e-03, 2.2265e-01, 4.9241e-01, 2.9399e-01, 2.3312e-02,\n",
       "         4.7664e-03, 6.3960e-04, 3.5847e-04],\n",
       "        [7.9150e-04, 3.1421e-03, 3.5284e-01, 4.5543e-01, 1.6734e-01, 2.3337e-02,\n",
       "         3.6956e-03, 4.7873e-04, 3.8009e-04],\n",
       "        [1.8744e-03, 2.8594e-03, 2.6097e-01, 4.9264e-01, 1.8876e-01, 3.0931e-02,\n",
       "         2.9663e-03, 5.4795e-04, 3.0063e-04]], grad_fn=<ReshapeAliasBackward0>)"
      ]
     },
     "execution_count": 49,
     "metadata": {},
     "output_type": "execute_result"
    }
   ],
   "source": [
    "probs_cat = torch.reshape(probs,(6,-1))\n",
    "probs_cat"
   ]
  },
  {
   "cell_type": "markdown",
   "id": "32d88bc8-48bd-4304-b084-799e7fbace68",
   "metadata": {},
   "source": [
    "Find for each category the predicted grade!"
   ]
  },
  {
   "cell_type": "code",
   "execution_count": 50,
   "id": "661c921e-4a72-4c36-95bb-a7e96233e8ed",
   "metadata": {},
   "outputs": [
    {
     "data": {
      "text/plain": [
       "tensor([3, 3, 4, 3, 3, 3])"
      ]
     },
     "execution_count": 50,
     "metadata": {},
     "output_type": "execute_result"
    }
   ],
   "source": [
    "pred = torch.argmax(probs_cat, axis=1)\n",
    "pred"
   ]
  },
  {
   "cell_type": "code",
   "execution_count": 51,
   "id": "2de2b8c6-9849-47ec-84ca-3d5781c9aec3",
   "metadata": {},
   "outputs": [
    {
     "data": {
      "text/plain": [
       "[2.5, 2.5, 3.0, 2.5, 2.5, 2.5]"
      ]
     },
     "execution_count": 51,
     "metadata": {},
     "output_type": "execute_result"
    }
   ],
   "source": [
    "predicted_labels = [float(1 + 0.5*i) for i in pred]\n",
    "predicted_labels"
   ]
  },
  {
   "cell_type": "code",
   "execution_count": 52,
   "id": "53ffe7c9-bfa7-4f9b-8c25-41205a73b987",
   "metadata": {},
   "outputs": [
    {
     "name": "stderr",
     "output_type": "stream",
     "text": [
      "***** Running Prediction *****\n",
      "  Num examples = 3\n",
      "  Batch size = 8\n"
     ]
    },
    {
     "data": {
      "text/html": [
       "\n",
       "    <div>\n",
       "      \n",
       "      <progress value='1' max='1' style='width:300px; height:20px; vertical-align: middle;'></progress>\n",
       "      [1/1 : < :]\n",
       "    </div>\n",
       "    "
      ],
      "text/plain": [
       "<IPython.core.display.HTML object>"
      ]
     },
     "metadata": {},
     "output_type": "display_data"
    }
   ],
   "source": [
    "preds = trainer.predict(eval_ds)"
   ]
  },
  {
   "cell_type": "code",
   "execution_count": 53,
   "id": "c1d329b1-4adb-4fcb-a579-a55d743b7300",
   "metadata": {},
   "outputs": [],
   "source": [
    "preds_tt = torch.Tensor(preds.predictions)"
   ]
  },
  {
   "cell_type": "code",
   "execution_count": 54,
   "id": "6acc6ffa-52aa-4b6b-8339-59980c9c4808",
   "metadata": {},
   "outputs": [],
   "source": [
    "# apply sigmoid + threshold\n",
    "sigmoid = torch.nn.Sigmoid()\n",
    "probs = sigmoid(preds_tt)"
   ]
  },
  {
   "cell_type": "code",
   "execution_count": 55,
   "id": "3e700e5f-3279-434d-81ea-b90437264028",
   "metadata": {},
   "outputs": [
    {
     "data": {
      "text/plain": [
       "torch.Size([3, 54])"
      ]
     },
     "execution_count": 55,
     "metadata": {},
     "output_type": "execute_result"
    }
   ],
   "source": [
    "probs.shape"
   ]
  },
  {
   "cell_type": "code",
   "execution_count": 56,
   "id": "737e7a63-8d19-4f28-a694-bc079470a2fe",
   "metadata": {},
   "outputs": [
    {
     "data": {
      "text/plain": [
       "tensor([[[1.3449e-03, 4.0534e-03, 1.9329e-01, 4.4354e-01, 2.9212e-01,\n",
       "          5.5185e-02, 4.2550e-03, 9.5515e-04, 2.5638e-04],\n",
       "         [8.3035e-04, 4.3410e-03, 2.6706e-01, 5.0903e-01, 2.1249e-01,\n",
       "          1.7460e-02, 2.2924e-03, 3.5820e-04, 1.7877e-04],\n",
       "         [3.1327e-04, 1.2887e-03, 4.9035e-02, 3.4472e-01, 5.9424e-01,\n",
       "          3.5466e-02, 5.9954e-03, 6.2657e-04, 3.3844e-04],\n",
       "         [1.1110e-03, 1.2210e-03, 2.2265e-01, 4.9241e-01, 2.9399e-01,\n",
       "          2.3312e-02, 4.7664e-03, 6.3960e-04, 3.5847e-04],\n",
       "         [7.9150e-04, 3.1421e-03, 3.5284e-01, 4.5543e-01, 1.6734e-01,\n",
       "          2.3337e-02, 3.6956e-03, 4.7873e-04, 3.8009e-04],\n",
       "         [1.8744e-03, 2.8594e-03, 2.6097e-01, 4.9264e-01, 1.8876e-01,\n",
       "          3.0931e-02, 2.9663e-03, 5.4795e-04, 3.0063e-04]],\n",
       "\n",
       "        [[6.9702e-04, 2.2156e-03, 1.3525e-01, 4.0190e-01, 3.5979e-01,\n",
       "          8.3393e-02, 6.3948e-03, 8.6993e-04, 2.2647e-04],\n",
       "         [4.6869e-04, 2.0869e-03, 1.7277e-01, 5.0589e-01, 2.9519e-01,\n",
       "          2.7507e-02, 3.1139e-03, 3.2655e-04, 1.5393e-04],\n",
       "         [1.7464e-04, 7.4361e-04, 2.6913e-02, 2.8327e-01, 6.5481e-01,\n",
       "          5.2866e-02, 8.4536e-03, 6.0302e-04, 2.9023e-04],\n",
       "         [5.6700e-04, 7.7239e-04, 1.4403e-01, 4.4338e-01, 3.8536e-01,\n",
       "          3.7247e-02, 6.1888e-03, 6.0653e-04, 3.1055e-04],\n",
       "         [4.2745e-04, 1.7662e-03, 2.5455e-01, 4.5494e-01, 2.3762e-01,\n",
       "          3.6414e-02, 5.2301e-03, 4.7578e-04, 3.3699e-04],\n",
       "         [9.9297e-04, 1.4795e-03, 1.5690e-01, 4.7478e-01, 2.8432e-01,\n",
       "          5.2038e-02, 4.1617e-03, 5.1195e-04, 2.6572e-04]],\n",
       "\n",
       "        [[8.9919e-05, 2.2792e-04, 1.0313e-02, 9.4493e-02, 3.4430e-01,\n",
       "          4.0744e-01, 1.2611e-01, 4.3038e-03, 1.0102e-03],\n",
       "         [7.9191e-05, 1.3719e-04, 1.1439e-02, 7.6456e-02, 5.0715e-01,\n",
       "          3.4287e-01, 5.0529e-02, 2.9594e-03, 5.8506e-04],\n",
       "         [5.5959e-05, 1.3887e-04, 1.4530e-03, 2.7991e-02, 4.2644e-01,\n",
       "          4.2822e-01, 1.2768e-01, 4.4846e-03, 1.3150e-03],\n",
       "         [8.3560e-05, 1.8322e-04, 8.9937e-03, 6.9328e-02, 4.2182e-01,\n",
       "          3.8917e-01, 8.6680e-02, 3.8928e-03, 1.0506e-03],\n",
       "         [7.3068e-05, 2.1460e-04, 1.5649e-02, 1.3015e-01, 3.8366e-01,\n",
       "          3.6370e-01, 8.9219e-02, 3.5911e-03, 1.2481e-03],\n",
       "         [9.8681e-05, 1.5562e-04, 4.8098e-03, 6.4202e-02, 4.5954e-01,\n",
       "          3.9083e-01, 8.0475e-02, 5.0407e-03, 1.0509e-03]]])"
      ]
     },
     "execution_count": 56,
     "metadata": {},
     "output_type": "execute_result"
    }
   ],
   "source": [
    "probs_cat = torch.reshape(probs,(eval_ds.num_rows,6,-1))\n",
    "probs_cat"
   ]
  },
  {
   "cell_type": "code",
   "execution_count": 57,
   "id": "635af928-dc53-4a26-884b-815876d385fc",
   "metadata": {},
   "outputs": [
    {
     "data": {
      "text/plain": [
       "tensor([[3, 3, 4, 3, 3, 3],\n",
       "        [3, 3, 4, 3, 3, 3],\n",
       "        [5, 4, 5, 4, 4, 4]])"
      ]
     },
     "execution_count": 57,
     "metadata": {},
     "output_type": "execute_result"
    }
   ],
   "source": [
    "pred = torch.argmax(probs_cat, axis=2)\n",
    "pred"
   ]
  },
  {
   "cell_type": "markdown",
   "id": "4aed52fe-a97f-47c8-b399-4ebb96d02396",
   "metadata": {},
   "source": [
    "If we get prediction for the i'th column that means we have have for the category given by the row index\n",
    "\n",
    "$grad_{cat} = i * 0.5 + 1$"
   ]
  },
  {
   "cell_type": "code",
   "execution_count": 58,
   "id": "f8629e8e-7645-4b36-b2c1-fa6035769fe3",
   "metadata": {},
   "outputs": [
    {
     "data": {
      "text/plain": [
       "tensor([[2.5000, 2.5000, 3.0000, 2.5000, 2.5000, 2.5000],\n",
       "        [2.5000, 2.5000, 3.0000, 2.5000, 2.5000, 2.5000],\n",
       "        [3.5000, 3.0000, 3.5000, 3.0000, 3.0000, 3.0000]])"
      ]
     },
     "execution_count": 58,
     "metadata": {},
     "output_type": "execute_result"
    }
   ],
   "source": [
    "grades = pred*0.5+1\n",
    "grades "
   ]
  },
  {
   "cell_type": "markdown",
   "id": "ed51ab65-fed7-47b7-9b95-684141c43bb8",
   "metadata": {},
   "source": [
    "Let's convert this to a dataframe:"
   ]
  },
  {
   "cell_type": "code",
   "execution_count": 59,
   "id": "1aa3875a-1f95-4bf6-8163-84ec0ba27280",
   "metadata": {},
   "outputs": [
    {
     "data": {
      "text/html": [
       "<div>\n",
       "<style scoped>\n",
       "    .dataframe tbody tr th:only-of-type {\n",
       "        vertical-align: middle;\n",
       "    }\n",
       "\n",
       "    .dataframe tbody tr th {\n",
       "        vertical-align: top;\n",
       "    }\n",
       "\n",
       "    .dataframe thead th {\n",
       "        text-align: right;\n",
       "    }\n",
       "</style>\n",
       "<table border=\"1\" class=\"dataframe\">\n",
       "  <thead>\n",
       "    <tr style=\"text-align: right;\">\n",
       "      <th></th>\n",
       "      <th>cohesion</th>\n",
       "      <th>syntax</th>\n",
       "      <th>vocabulary</th>\n",
       "      <th>phraseology</th>\n",
       "      <th>grammar</th>\n",
       "      <th>conventions</th>\n",
       "      <th>text_id</th>\n",
       "    </tr>\n",
       "  </thead>\n",
       "  <tbody>\n",
       "    <tr>\n",
       "      <th>0</th>\n",
       "      <td>2.5</td>\n",
       "      <td>2.5</td>\n",
       "      <td>3.0</td>\n",
       "      <td>2.5</td>\n",
       "      <td>2.5</td>\n",
       "      <td>2.5</td>\n",
       "      <td>0000C359D63E</td>\n",
       "    </tr>\n",
       "    <tr>\n",
       "      <th>1</th>\n",
       "      <td>2.5</td>\n",
       "      <td>2.5</td>\n",
       "      <td>3.0</td>\n",
       "      <td>2.5</td>\n",
       "      <td>2.5</td>\n",
       "      <td>2.5</td>\n",
       "      <td>000BAD50D026</td>\n",
       "    </tr>\n",
       "    <tr>\n",
       "      <th>2</th>\n",
       "      <td>3.5</td>\n",
       "      <td>3.0</td>\n",
       "      <td>3.5</td>\n",
       "      <td>3.0</td>\n",
       "      <td>3.0</td>\n",
       "      <td>3.0</td>\n",
       "      <td>00367BB2546B</td>\n",
       "    </tr>\n",
       "  </tbody>\n",
       "</table>\n",
       "</div>"
      ],
      "text/plain": [
       "   cohesion  syntax  vocabulary  phraseology  grammar  conventions  \\\n",
       "0       2.5     2.5         3.0          2.5      2.5          2.5   \n",
       "1       2.5     2.5         3.0          2.5      2.5          2.5   \n",
       "2       3.5     3.0         3.5          3.0      3.0          3.0   \n",
       "\n",
       "        text_id  \n",
       "0  0000C359D63E  \n",
       "1  000BAD50D026  \n",
       "2  00367BB2546B  "
      ]
     },
     "execution_count": 59,
     "metadata": {},
     "output_type": "execute_result"
    }
   ],
   "source": [
    "sub = pd.DataFrame(grades.numpy())\n",
    "sub.columns = df_ss.columns[1:]\n",
    "sub[\"text_id\"] = ds_tst[\"text_id\"]\n",
    "sub"
   ]
  },
  {
   "cell_type": "code",
   "execution_count": 60,
   "id": "9629ee32-fe7a-4140-9045-bca5ede141f5",
   "metadata": {},
   "outputs": [
    {
     "data": {
      "text/html": [
       "<div>\n",
       "<style scoped>\n",
       "    .dataframe tbody tr th:only-of-type {\n",
       "        vertical-align: middle;\n",
       "    }\n",
       "\n",
       "    .dataframe tbody tr th {\n",
       "        vertical-align: top;\n",
       "    }\n",
       "\n",
       "    .dataframe thead th {\n",
       "        text-align: right;\n",
       "    }\n",
       "</style>\n",
       "<table border=\"1\" class=\"dataframe\">\n",
       "  <thead>\n",
       "    <tr style=\"text-align: right;\">\n",
       "      <th></th>\n",
       "      <th>text_id</th>\n",
       "      <th>cohesion</th>\n",
       "      <th>syntax</th>\n",
       "      <th>vocabulary</th>\n",
       "      <th>phraseology</th>\n",
       "      <th>grammar</th>\n",
       "      <th>conventions</th>\n",
       "    </tr>\n",
       "  </thead>\n",
       "  <tbody>\n",
       "    <tr>\n",
       "      <th>0</th>\n",
       "      <td>0000C359D63E</td>\n",
       "      <td>3.0</td>\n",
       "      <td>3.0</td>\n",
       "      <td>3.0</td>\n",
       "      <td>3.0</td>\n",
       "      <td>3.0</td>\n",
       "      <td>3.0</td>\n",
       "    </tr>\n",
       "    <tr>\n",
       "      <th>1</th>\n",
       "      <td>000BAD50D026</td>\n",
       "      <td>3.0</td>\n",
       "      <td>3.0</td>\n",
       "      <td>3.0</td>\n",
       "      <td>3.0</td>\n",
       "      <td>3.0</td>\n",
       "      <td>3.0</td>\n",
       "    </tr>\n",
       "    <tr>\n",
       "      <th>2</th>\n",
       "      <td>00367BB2546B</td>\n",
       "      <td>3.0</td>\n",
       "      <td>3.0</td>\n",
       "      <td>3.0</td>\n",
       "      <td>3.0</td>\n",
       "      <td>3.0</td>\n",
       "      <td>3.0</td>\n",
       "    </tr>\n",
       "  </tbody>\n",
       "</table>\n",
       "</div>"
      ],
      "text/plain": [
       "        text_id  cohesion  syntax  vocabulary  phraseology  grammar  \\\n",
       "0  0000C359D63E       3.0     3.0         3.0          3.0      3.0   \n",
       "1  000BAD50D026       3.0     3.0         3.0          3.0      3.0   \n",
       "2  00367BB2546B       3.0     3.0         3.0          3.0      3.0   \n",
       "\n",
       "   conventions  \n",
       "0          3.0  \n",
       "1          3.0  \n",
       "2          3.0  "
      ]
     },
     "execution_count": 60,
     "metadata": {},
     "output_type": "execute_result"
    }
   ],
   "source": [
    "df_ss"
   ]
  },
  {
   "cell_type": "markdown",
   "id": "014db5b5-fbad-4286-a0e2-8ed67f499721",
   "metadata": {},
   "source": [
    "We need to rearrange the columns to get the right format."
   ]
  },
  {
   "cell_type": "code",
   "execution_count": 61,
   "id": "cde5affa-c2f1-4c6f-b56d-cd1616da7636",
   "metadata": {},
   "outputs": [
    {
     "data": {
      "text/html": [
       "<div>\n",
       "<style scoped>\n",
       "    .dataframe tbody tr th:only-of-type {\n",
       "        vertical-align: middle;\n",
       "    }\n",
       "\n",
       "    .dataframe tbody tr th {\n",
       "        vertical-align: top;\n",
       "    }\n",
       "\n",
       "    .dataframe thead th {\n",
       "        text-align: right;\n",
       "    }\n",
       "</style>\n",
       "<table border=\"1\" class=\"dataframe\">\n",
       "  <thead>\n",
       "    <tr style=\"text-align: right;\">\n",
       "      <th></th>\n",
       "      <th>text_id</th>\n",
       "      <th>cohesion</th>\n",
       "      <th>syntax</th>\n",
       "      <th>vocabulary</th>\n",
       "      <th>phraseology</th>\n",
       "      <th>grammar</th>\n",
       "      <th>conventions</th>\n",
       "    </tr>\n",
       "  </thead>\n",
       "  <tbody>\n",
       "    <tr>\n",
       "      <th>0</th>\n",
       "      <td>0000C359D63E</td>\n",
       "      <td>2.5</td>\n",
       "      <td>2.5</td>\n",
       "      <td>3.0</td>\n",
       "      <td>2.5</td>\n",
       "      <td>2.5</td>\n",
       "      <td>2.5</td>\n",
       "    </tr>\n",
       "    <tr>\n",
       "      <th>1</th>\n",
       "      <td>000BAD50D026</td>\n",
       "      <td>2.5</td>\n",
       "      <td>2.5</td>\n",
       "      <td>3.0</td>\n",
       "      <td>2.5</td>\n",
       "      <td>2.5</td>\n",
       "      <td>2.5</td>\n",
       "    </tr>\n",
       "    <tr>\n",
       "      <th>2</th>\n",
       "      <td>00367BB2546B</td>\n",
       "      <td>3.5</td>\n",
       "      <td>3.0</td>\n",
       "      <td>3.5</td>\n",
       "      <td>3.0</td>\n",
       "      <td>3.0</td>\n",
       "      <td>3.0</td>\n",
       "    </tr>\n",
       "  </tbody>\n",
       "</table>\n",
       "</div>"
      ],
      "text/plain": [
       "        text_id  cohesion  syntax  vocabulary  phraseology  grammar  \\\n",
       "0  0000C359D63E       2.5     2.5         3.0          2.5      2.5   \n",
       "1  000BAD50D026       2.5     2.5         3.0          2.5      2.5   \n",
       "2  00367BB2546B       3.5     3.0         3.5          3.0      3.0   \n",
       "\n",
       "   conventions  \n",
       "0          2.5  \n",
       "1          2.5  \n",
       "2          3.0  "
      ]
     },
     "execution_count": 61,
     "metadata": {},
     "output_type": "execute_result"
    }
   ],
   "source": [
    "sub = sub[df_ss.columns]\n",
    "sub "
   ]
  }
 ],
 "metadata": {
  "kernelspec": {
   "display_name": "Python 3 (ipykernel)",
   "language": "python",
   "name": "python3"
  },
  "language_info": {
   "codemirror_mode": {
    "name": "ipython",
    "version": 3
   },
   "file_extension": ".py",
   "mimetype": "text/x-python",
   "name": "python",
   "nbconvert_exporter": "python",
   "pygments_lexer": "ipython3",
   "version": "3.9.13"
  }
 },
 "nbformat": 4,
 "nbformat_minor": 5
}
