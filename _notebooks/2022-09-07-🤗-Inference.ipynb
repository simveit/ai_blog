{
 "cells": [
  {
   "cell_type": "markdown",
   "id": "0314a31b-f5d0-438a-84dd-cde6ce3be58f",
   "metadata": {},
   "source": [
    "# 🤗 Inference"
   ]
  },
  {
   "cell_type": "markdown",
   "id": "09a5bde4-0fc1-4469-997a-0eeddd9cb033",
   "metadata": {},
   "source": [
    "After training our first model with 🤗 we want to explore ways to improve our training and make the notebook better readable.\n",
    "\n",
    "- In a first step we use DistilBERT Base model as it's small, fast and good for our 🌍."
   ]
  },
  {
   "cell_type": "markdown",
   "id": "5810be35-c7aa-4c56-946f-786de23f39aa",
   "metadata": {},
   "source": [
    "## Setup"
   ]
  },
  {
   "cell_type": "markdown",
   "id": "c124c102-1c88-419f-b4e6-328c6d160bfc",
   "metadata": {},
   "source": [
    "As always we first import the necessary libraries."
   ]
  },
  {
   "cell_type": "code",
   "execution_count": 1,
   "id": "7d26e666-591a-4ec3-9b2c-5ef8b8dfd36b",
   "metadata": {},
   "outputs": [],
   "source": [
    "from datasets import Dataset,DatasetDict\n",
    "import matplotlib.pyplot as plt\n",
    "import numpy as np\n",
    "import pandas as pd\n",
    "from pathlib import Path\n",
    "import seaborn as sns\n",
    "from transformers import AutoModelForSequenceClassification,AutoTokenizer\n",
    "from transformers import TrainingArguments, Trainer\n",
    "import torch"
   ]
  },
  {
   "cell_type": "code",
   "execution_count": 2,
   "id": "ce10dce4-5dfe-41d7-906b-15f120265b28",
   "metadata": {},
   "outputs": [],
   "source": [
    "path = Path(\"feedback-prize-english-language-learning\")"
   ]
  },
  {
   "cell_type": "markdown",
   "id": "07ba658c-c843-4dc2-82dc-9ca920ae4d3e",
   "metadata": {},
   "source": [
    "Load our data"
   ]
  },
  {
   "cell_type": "code",
   "execution_count": 3,
   "id": "11ae2a4a-4407-4a3b-9301-a65fcea7d49d",
   "metadata": {},
   "outputs": [],
   "source": [
    "df_ss = pd.read_csv(path/\"sample_submission.csv\")\n",
    "df_tst = pd.read_csv(path/\"test.csv\")\n",
    "df_trn = pd.read_csv(path/\"train.csv\")"
   ]
  },
  {
   "cell_type": "markdown",
   "id": "466112f7-4d60-4c40-84fe-cebddf07bb72",
   "metadata": {},
   "source": [
    "We want to use the small DistilBERT model as we care about our enviroment 😊"
   ]
  },
  {
   "cell_type": "code",
   "execution_count": 4,
   "id": "c733384a-4742-43ee-b895-41ece9fe0647",
   "metadata": {},
   "outputs": [],
   "source": [
    "tokenizer = AutoTokenizer.from_pretrained(\"trainer\")"
   ]
  },
  {
   "cell_type": "markdown",
   "id": "efe58b5c-fb94-4058-ade6-9303a6429d95",
   "metadata": {},
   "source": [
    "## Preprocess"
   ]
  },
  {
   "cell_type": "markdown",
   "id": "21dab271-52a9-4142-a788-1a7c1e90b0f0",
   "metadata": {},
   "source": [
    "Setting our labels and hot encode them."
   ]
  },
  {
   "cell_type": "code",
   "execution_count": 5,
   "id": "91a4d986-db25-43f9-bea7-dab9a301e206",
   "metadata": {},
   "outputs": [],
   "source": [
    "labels = df_trn.columns[2:]\n",
    "df_trn_ohe = pd.get_dummies(df_trn, columns=labels)"
   ]
  },
  {
   "cell_type": "markdown",
   "id": "6cf82526-99ca-46df-b908-eda408a58b3b",
   "metadata": {},
   "source": [
    "Create the dataset"
   ]
  },
  {
   "cell_type": "code",
   "execution_count": 6,
   "id": "037edb05-7030-43a1-b2b7-50ad58cdbef7",
   "metadata": {},
   "outputs": [],
   "source": [
    "ds = Dataset.from_pandas(df_trn_ohe)"
   ]
  },
  {
   "cell_type": "markdown",
   "id": "34579888-6a05-443d-8649-fc16b124c01b",
   "metadata": {},
   "source": [
    "Split in training and validation"
   ]
  },
  {
   "cell_type": "code",
   "execution_count": 7,
   "id": "43e65f6e-d8ba-4aee-91b1-5109c0f8a28a",
   "metadata": {},
   "outputs": [],
   "source": [
    "ds_d = ds.train_test_split(0.25, seed=42)"
   ]
  },
  {
   "cell_type": "markdown",
   "id": "bb112478-e054-4e48-83e9-d642b40993dd",
   "metadata": {},
   "source": [
    "To identify dataset labels at a later point:"
   ]
  },
  {
   "cell_type": "code",
   "execution_count": 8,
   "id": "aee49226-16c6-402c-912d-9688c22e0b42",
   "metadata": {},
   "outputs": [],
   "source": [
    "labels = [label for label in ds_d['train'].features.keys() if label not in ['text_id', 'full_text']]\n",
    "id2label = {idx:label for idx, label in enumerate(labels)}\n",
    "label2id = {label:idx for idx, label in enumerate(labels)}"
   ]
  },
  {
   "cell_type": "markdown",
   "id": "29840adb-190e-44e0-8601-e3d8c9e08358",
   "metadata": {},
   "source": [
    "Preprocess the data with the help of our tokenizer "
   ]
  },
  {
   "cell_type": "code",
   "execution_count": 9,
   "id": "de315fe3-0e5d-4a06-a843-c8485bdd15d9",
   "metadata": {},
   "outputs": [],
   "source": [
    "def preprocess_data(examples):\n",
    "    # take a batch of texts\n",
    "    text = examples[\"full_text\"]\n",
    "    # encode them\n",
    "    encoding = tokenizer(text, padding=\"max_length\", truncation=True)\n",
    "    # add labels\n",
    "    labels_batch = {k: examples[k] for k in examples.keys() if k in labels}\n",
    "    # create numpy array of shape (batch_size, num_labels)\n",
    "    labels_matrix = np.zeros((len(text), len(labels)))\n",
    "    # fill numpy array\n",
    "    for idx, label in enumerate(labels):\n",
    "        labels_matrix[:, idx] = labels_batch[label]\n",
    "\n",
    "    encoding[\"labels\"] = labels_matrix.tolist()\n",
    "  \n",
    "    return encoding"
   ]
  },
  {
   "cell_type": "markdown",
   "id": "b44fa6a3-981e-48ac-a561-18f0216acfd9",
   "metadata": {},
   "source": [
    "Encode!"
   ]
  },
  {
   "cell_type": "code",
   "execution_count": 10,
   "id": "ffd4306b-5ff8-49fa-86dc-b3bb863975e4",
   "metadata": {},
   "outputs": [
    {
     "name": "stderr",
     "output_type": "stream",
     "text": [
      "Parameter 'function'=<function preprocess_data at 0x7f47b0c1cb80> of the transform datasets.arrow_dataset.Dataset._map_single couldn't be hashed properly, a random hash was used instead. Make sure your transforms and parameters are serializable with pickle or dill for the dataset fingerprinting and caching to work. If you reuse this transform, the caching mechanism will consider it to be different from the previous calls and recompute everything. This warning is only showed once. Subsequent hashing failures won't be showed.\n"
     ]
    },
    {
     "data": {
      "application/vnd.jupyter.widget-view+json": {
       "model_id": "afeb666c0edc41e1be04fdecdaeb3cdb",
       "version_major": 2,
       "version_minor": 0
      },
      "text/plain": [
       "  0%|          | 0/3 [00:00<?, ?ba/s]"
      ]
     },
     "metadata": {},
     "output_type": "display_data"
    },
    {
     "data": {
      "application/vnd.jupyter.widget-view+json": {
       "model_id": "d4a33a4b7e6543e6aa5e1fe6f1f941fc",
       "version_major": 2,
       "version_minor": 0
      },
      "text/plain": [
       "  0%|          | 0/1 [00:00<?, ?ba/s]"
      ]
     },
     "metadata": {},
     "output_type": "display_data"
    }
   ],
   "source": [
    "enc_ds_d = ds_d.map(preprocess_data, batched=True, remove_columns=ds_d['train'].column_names)"
   ]
  },
  {
   "cell_type": "markdown",
   "id": "22edac67-712e-4256-a1d4-4b17d6896d84",
   "metadata": {},
   "source": [
    "## Getting ready for training"
   ]
  },
  {
   "cell_type": "markdown",
   "id": "5e3f32f4-27f3-4850-91d8-6ccbce72a333",
   "metadata": {},
   "source": [
    "Our metric, mcrmse"
   ]
  },
  {
   "cell_type": "code",
   "execution_count": 11,
   "id": "a4924573-3f7f-4152-9a62-d7288cb33f28",
   "metadata": {},
   "outputs": [],
   "source": [
    "def mcrmse(y_true,y_pred): return np.mean(np.sqrt(np.mean((y_true-y_pred)**2,axis=0)))"
   ]
  },
  {
   "cell_type": "markdown",
   "id": "e78c5125-d312-4952-be64-5b595ac48123",
   "metadata": {},
   "source": [
    "See [here](https://github.com/NielsRogge/Transformers-Tutorials/blob/master/BERT/Fine_tuning_BERT_(and_friends)_for_multi_label_text_classification.ipynb):"
   ]
  },
  {
   "cell_type": "code",
   "execution_count": 12,
   "id": "514357fc-77ba-435e-9272-187fadcf81fb",
   "metadata": {},
   "outputs": [],
   "source": [
    "from sklearn.metrics import f1_score, roc_auc_score, accuracy_score\n",
    "from transformers import EvalPrediction\n",
    "import torch\n",
    "    \n",
    "# source: https://jesusleal.io/2021/04/21/Longformer-multilabel-classification/\n",
    "def multi_label_metrics(predictions, labels, threshold=0.5):\n",
    "    # first, apply sigmoid on predictions which are of shape (batch_size, num_labels)\n",
    "    sigmoid = torch.nn.Sigmoid()\n",
    "    probs = sigmoid(torch.Tensor(predictions))\n",
    "    # next, use threshold to turn them into integer predictions\n",
    "    y_pred = np.zeros(probs.shape)\n",
    "    y_pred[np.where(probs >= threshold)] = 1\n",
    "    # finally, compute metrics\n",
    "    y_true = labels\n",
    "    mcrmse_acc = mcrmse(y_true=y_true, y_pred=y_pred)\n",
    "    f1_micro_average = f1_score(y_true=y_true, y_pred=y_pred, average='micro')\n",
    "    roc_auc = roc_auc_score(y_true, y_pred, average = 'micro')\n",
    "    accuracy = accuracy_score(y_true, y_pred)    \n",
    "    # return as dictionary\n",
    "    metrics = {'mcrmse': mcrmse_acc,\n",
    "               'f1': f1_micro_average,\n",
    "               'roc_auc': roc_auc,\n",
    "               'accuracy': accuracy}\n",
    "    return metrics\n",
    "\n",
    "def compute_metrics(p: EvalPrediction):\n",
    "    preds = p.predictions[0] if isinstance(p.predictions, \n",
    "            tuple) else p.predictions\n",
    "    result = multi_label_metrics(\n",
    "        predictions=preds, \n",
    "        labels=p.label_ids)\n",
    "    return result"
   ]
  },
  {
   "cell_type": "markdown",
   "id": "7fcbdde5-0d84-48af-9b5f-1695b63654e6",
   "metadata": {},
   "source": [
    "Setting up our model"
   ]
  },
  {
   "cell_type": "code",
   "execution_count": 13,
   "id": "a702ad85-6725-4d62-91bb-cfd7aebc9ef1",
   "metadata": {},
   "outputs": [],
   "source": [
    "model = AutoModelForSequenceClassification.from_pretrained(\"trainer\", \n",
    "                                                           problem_type=\"multi_label_classification\", \n",
    "                                                           num_labels=len(labels),\n",
    "                                                           id2label=id2label,\n",
    "                                                           label2id=label2id)"
   ]
  },
  {
   "cell_type": "markdown",
   "id": "f47e1edd-3c30-40ca-aaf7-8a60e8d63c83",
   "metadata": {},
   "source": [
    "Hyperparameters & TEST arguments setting:"
   ]
  },
  {
   "cell_type": "code",
   "execution_count": 14,
   "id": "2077767e-a9ed-4c9a-b5a3-9f62e06faff7",
   "metadata": {},
   "outputs": [],
   "source": [
    "batch_size = 16\n",
    "metric_for_best_model = \"mcrmse\""
   ]
  },
  {
   "cell_type": "code",
   "execution_count": 15,
   "id": "a1f1b54b-cfe2-4daf-8cef-b997f85b7627",
   "metadata": {},
   "outputs": [],
   "source": [
    "args = TrainingArguments(\n",
    "    f\"tst_out\",\n",
    "    do_train = False,\n",
    "    do_predict = True,\n",
    "    per_device_eval_batch_size = batch_size,\n",
    "    dataloader_drop_last = False\n",
    ")"
   ]
  },
  {
   "cell_type": "markdown",
   "id": "92778b1e-19f1-4b04-844c-3c49bc301bdd",
   "metadata": {},
   "source": [
    "Set format to torch tensors:"
   ]
  },
  {
   "cell_type": "code",
   "execution_count": 16,
   "id": "c2f9511e-7b93-4ef7-bcdc-e05384391806",
   "metadata": {},
   "outputs": [],
   "source": [
    "enc_ds_d.set_format(\"torch\")"
   ]
  },
  {
   "cell_type": "markdown",
   "id": "543fecb4-dcf3-4fb4-a890-e1ffd64e49b7",
   "metadata": {},
   "source": [
    "Check for correct batch format and forward pass:"
   ]
  },
  {
   "cell_type": "code",
   "execution_count": 17,
   "id": "efad1604-fe4d-49f5-9205-400040885096",
   "metadata": {},
   "outputs": [
    {
     "data": {
      "text/plain": [
       "'torch.FloatTensor'"
      ]
     },
     "execution_count": 17,
     "metadata": {},
     "output_type": "execute_result"
    }
   ],
   "source": [
    "enc_ds_d['train'][0]['labels'].type()"
   ]
  },
  {
   "cell_type": "code",
   "execution_count": 18,
   "id": "c6714edb-1520-49b7-987f-856749e23bc7",
   "metadata": {},
   "outputs": [
    {
     "data": {
      "text/plain": [
       "tensor([  101,  2722,  1110,  1141,  1104,  1103,  1211,  2712,  1282,  1107,\n",
       "         1142,  1362,   119,  2722,  1144,  7424,  1104,  4333,   117,  1152,\n",
       "         1138,  1992,  5862,  3514,  1176,  5230,  6331,   117,  7120,   117,\n",
       "         6244,  1186,  6331,   117,  1105,  1242,  1167,   119,  1220,  1138,\n",
       "         1992,  4706,  1116,  1115,  2006,  1166,  1620,   117,  1288,  1234,\n",
       "          117,  1152,  1256,  1138,  1199,  3505,  1956,  1176,  1152,  1138,\n",
       "         1138,  1832,  5082,  7418,  1656,  1103,  4706,   117,  1141,  1104,\n",
       "         1172,  1144,   170,  4255,  1656,   119,  2857,   146,  1156,  6657,\n",
       "         1120,  2722,   146,  1156,  1567,  1106,  2222,  1147,  2094,  1272,\n",
       "          146,  1767,  1147,  2094,  1108,  1363,  1177,  1358,   146, 14516,\n",
       "         1116, 10340,  1174,  1122,  1146,  1105,  1103,  2094,  2736,  1177,\n",
       "          194,  1818,  4527,  1105, 27629, 13913,   119,   146,  1156,  1145,\n",
       "         1567,  1106,  4176,  1113,   170,  3499,  1105, 11270,  1194,  1103,\n",
       "         1331,   119,  1448,  1104,  1103,  1363,  1614,  1110,  1115,  1122,\n",
       "          112,   188,  2633,  1211,  1104,  1159,  1166,  1175,   119,  7120,\n",
       "         1110,   170,  2712,  1331,  1107,  2722,   117,  1152,  2936, 14694,\n",
       "          119,  2082,  1104,  2124,  1234,  1156,  1178,  2936,  2124,  1133,\n",
       "         1114,  1126,  9603,  1133,  7120,  8917,  2124,  1105, 14694,   119,\n",
       "         1337,  1156,  1141,  1103,  3483,   178,  1156,  1567,  1106,  3858,\n",
       "          119,  2722,  1144,  2393,  3329,  1104,  1632,  3038,  1176,  9066,\n",
       "         4907,   168,  1392,   117,  9066,  4907,   168,  1392,   117,  9066,\n",
       "         4907,   168,  1392,   117,  1105,   170,  2006,  9670,  1167,   119,\n",
       "         1220,  1296,  1138,   170,  4706,   119,  1109,  1314,  1282,   146,\n",
       "         1156,  1567,  1106,  3143,  1110,  1103,  2364,  1104,  2722,  1134,\n",
       "         1110,  1363,   119,  9066,  4907,   168,  1392,  1110,  1141,  1104,\n",
       "         1103,  1436,  5862,  1264,  1107,  1103,  1362,   119,  1220,  1138,\n",
       "          170,  1974,  1104,  1632,  2139,  1105,   170,  2562,  4706,   119,\n",
       "          102,     0,     0,     0,     0,     0,     0,     0,     0,     0,\n",
       "            0,     0,     0,     0,     0,     0,     0,     0,     0,     0,\n",
       "            0,     0,     0,     0,     0,     0,     0,     0,     0,     0,\n",
       "            0,     0,     0,     0,     0,     0,     0,     0,     0,     0,\n",
       "            0,     0,     0,     0,     0,     0,     0,     0,     0,     0,\n",
       "            0,     0,     0,     0,     0,     0,     0,     0,     0,     0,\n",
       "            0,     0,     0,     0,     0,     0,     0,     0,     0,     0,\n",
       "            0,     0,     0,     0,     0,     0,     0,     0,     0,     0,\n",
       "            0,     0,     0,     0,     0,     0,     0,     0,     0,     0,\n",
       "            0,     0,     0,     0,     0,     0,     0,     0,     0,     0,\n",
       "            0,     0,     0,     0,     0,     0,     0,     0,     0,     0,\n",
       "            0,     0,     0,     0,     0,     0,     0,     0,     0,     0,\n",
       "            0,     0,     0,     0,     0,     0,     0,     0,     0,     0,\n",
       "            0,     0,     0,     0,     0,     0,     0,     0,     0,     0,\n",
       "            0,     0,     0,     0,     0,     0,     0,     0,     0,     0,\n",
       "            0,     0,     0,     0,     0,     0,     0,     0,     0,     0,\n",
       "            0,     0,     0,     0,     0,     0,     0,     0,     0,     0,\n",
       "            0,     0,     0,     0,     0,     0,     0,     0,     0,     0,\n",
       "            0,     0,     0,     0,     0,     0,     0,     0,     0,     0,\n",
       "            0,     0,     0,     0,     0,     0,     0,     0,     0,     0,\n",
       "            0,     0,     0,     0,     0,     0,     0,     0,     0,     0,\n",
       "            0,     0,     0,     0,     0,     0,     0,     0,     0,     0,\n",
       "            0,     0,     0,     0,     0,     0,     0,     0,     0,     0,\n",
       "            0,     0,     0,     0,     0,     0,     0,     0,     0,     0,\n",
       "            0,     0])"
      ]
     },
     "execution_count": 18,
     "metadata": {},
     "output_type": "execute_result"
    }
   ],
   "source": [
    "enc_ds_d['train']['input_ids'][0]"
   ]
  },
  {
   "cell_type": "code",
   "execution_count": 19,
   "id": "5802d525-4e34-48f4-abb4-352fab42b8ca",
   "metadata": {},
   "outputs": [
    {
     "data": {
      "text/plain": [
       "SequenceClassifierOutput(loss=tensor(0.4215, grad_fn=<BinaryCrossEntropyWithLogitsBackward0>), logits=tensor([[-4.2376, -4.1543, -2.9306, -2.1598, -1.3130, -0.7384, -0.6960, -1.9610,\n",
       "         -3.2477, -3.9503, -3.9065, -2.9795, -2.5574, -1.0898, -0.4721, -1.1970,\n",
       "         -1.9223, -3.2381, -4.6652, -4.3457, -3.6033, -2.8588, -1.1986, -0.7760,\n",
       "         -0.5751, -2.0190, -2.8463, -4.6242, -4.5797, -2.7286, -2.3781, -1.3806,\n",
       "         -0.7603, -0.7602, -1.5885, -3.4440, -4.4978, -4.0912, -2.8215, -2.0947,\n",
       "         -1.2550, -0.6153, -1.2498, -1.5860, -3.2566, -4.2045, -4.2450, -3.0765,\n",
       "         -2.4564, -0.9493, -0.8196, -0.9362, -1.8374, -3.1738]],\n",
       "       grad_fn=<AddmmBackward0>), hidden_states=None, attentions=None)"
      ]
     },
     "execution_count": 19,
     "metadata": {},
     "output_type": "execute_result"
    }
   ],
   "source": [
    "#forward pass\n",
    "outputs = model(input_ids=enc_ds_d['train']['input_ids'][0].unsqueeze(0), labels=enc_ds_d['train'][0]['labels'].unsqueeze(0))\n",
    "outputs"
   ]
  },
  {
   "cell_type": "markdown",
   "id": "c402a586-9b35-48cf-bed9-be2a0992e746",
   "metadata": {},
   "source": [
    "Setting up our Trainer:"
   ]
  },
  {
   "cell_type": "code",
   "execution_count": 20,
   "id": "c47fb647-b3e4-4e4c-9049-dbc6540f3e14",
   "metadata": {},
   "outputs": [],
   "source": [
    "trainer = Trainer(\n",
    "    model,\n",
    "    args,\n",
    "    train_dataset=enc_ds_d[\"train\"],\n",
    "    eval_dataset=enc_ds_d[\"test\"],\n",
    "    tokenizer=tokenizer,\n",
    "    compute_metrics=compute_metrics\n",
    ")"
   ]
  },
  {
   "cell_type": "markdown",
   "id": "f92bfbab-efc1-4704-b5ed-d3711ab0a53b",
   "metadata": {},
   "source": [
    "## Predict"
   ]
  },
  {
   "cell_type": "markdown",
   "id": "b89b49d3-632e-4c58-b135-e61aeaac621c",
   "metadata": {},
   "source": [
    "Set up eval dataset"
   ]
  },
  {
   "cell_type": "code",
   "execution_count": 29,
   "id": "8f6c5224-0c61-4cee-8a3e-f47962ccd393",
   "metadata": {},
   "outputs": [],
   "source": [
    "def tok_func(x): return tokenizer(x[\"full_text\"],padding=\"max_length\", truncation=True)"
   ]
  },
  {
   "cell_type": "code",
   "execution_count": 30,
   "id": "d505e96d-fd14-45d8-8586-e6ea20a26ec3",
   "metadata": {},
   "outputs": [],
   "source": [
    "ds_tst = Dataset.from_pandas(df_tst)"
   ]
  },
  {
   "cell_type": "code",
   "execution_count": 31,
   "id": "7312a936-89ec-4485-87db-009fef4f8828",
   "metadata": {},
   "outputs": [
    {
     "data": {
      "application/vnd.jupyter.widget-view+json": {
       "model_id": "27e9e6150e744e379c9aa548772d98c0",
       "version_major": 2,
       "version_minor": 0
      },
      "text/plain": [
       "  0%|          | 0/1 [00:00<?, ?ba/s]"
      ]
     },
     "metadata": {},
     "output_type": "display_data"
    }
   ],
   "source": [
    "eval_ds = ds_tst.map(tok_func, batched=True, remove_columns=[\"text_id\",\"full_text\"])"
   ]
  },
  {
   "cell_type": "code",
   "execution_count": 32,
   "id": "9664a0a1-f879-4618-afe8-4dcc3031e3b3",
   "metadata": {},
   "outputs": [
    {
     "name": "stderr",
     "output_type": "stream",
     "text": [
      "***** Running Prediction *****\n",
      "  Num examples = 3\n",
      "  Batch size = 16\n"
     ]
    },
    {
     "data": {
      "text/html": [
       "\n",
       "    <div>\n",
       "      \n",
       "      <progress value='1' max='1' style='width:300px; height:20px; vertical-align: middle;'></progress>\n",
       "      [1/1 : < :]\n",
       "    </div>\n",
       "    "
      ],
      "text/plain": [
       "<IPython.core.display.HTML object>"
      ]
     },
     "metadata": {},
     "output_type": "display_data"
    }
   ],
   "source": [
    "preds = trainer.predict(eval_ds)"
   ]
  },
  {
   "cell_type": "code",
   "execution_count": 33,
   "id": "fa37f122-87d7-4212-b92b-079090238da3",
   "metadata": {},
   "outputs": [],
   "source": [
    "preds_tt = torch.Tensor(preds.predictions)"
   ]
  },
  {
   "cell_type": "code",
   "execution_count": 34,
   "id": "3b5d0c4a-2ff5-4610-83b7-f0cd870ab843",
   "metadata": {},
   "outputs": [],
   "source": [
    "# apply sigmoid\n",
    "sigmoid = torch.nn.Sigmoid()\n",
    "probs = sigmoid(preds_tt)"
   ]
  },
  {
   "cell_type": "markdown",
   "id": "11cef78f-542f-4189-ae8a-ec2460d62fbb",
   "metadata": {},
   "source": [
    "Reshape.\n",
    "\n",
    "We have NUM_TST x NUM_CATS x NUM_GRADES tensor "
   ]
  },
  {
   "cell_type": "code",
   "execution_count": 35,
   "id": "f0a80501-3479-4a59-8401-ca0877035c91",
   "metadata": {},
   "outputs": [
    {
     "data": {
      "text/plain": [
       "torch.Size([3, 6, 9])"
      ]
     },
     "execution_count": 35,
     "metadata": {},
     "output_type": "execute_result"
    }
   ],
   "source": [
    "probs_cat = torch.reshape(probs,(eval_ds.num_rows,6,-1))\n",
    "probs_cat.shape"
   ]
  },
  {
   "cell_type": "markdown",
   "id": "8dbfad05-e7c3-4636-9b34-7cc195955130",
   "metadata": {},
   "source": [
    "Init 1 x 1 x NUM_GRADES tensor for calculating expectations along the grades!"
   ]
  },
  {
   "cell_type": "code",
   "execution_count": 36,
   "id": "2ce71a74-e15a-488a-b92c-0431fbc46af4",
   "metadata": {},
   "outputs": [
    {
     "data": {
      "text/plain": [
       "tensor([[[1.0000, 1.5000, 2.0000, 2.5000, 3.0000, 3.5000, 4.0000, 4.5000,\n",
       "          5.0000]]])"
      ]
     },
     "execution_count": 36,
     "metadata": {},
     "output_type": "execute_result"
    }
   ],
   "source": [
    "cat_grade = torch.arange(1,5.5,0.5)[None,None]\n",
    "cat_grade"
   ]
  },
  {
   "cell_type": "markdown",
   "id": "03162544-96f6-4b9b-8daa-45c960b2bd2a",
   "metadata": {},
   "source": [
    "The physicists best friend 🌴"
   ]
  },
  {
   "cell_type": "code",
   "execution_count": 37,
   "id": "7f344ca7-497e-4193-90f7-aeaa88dbb397",
   "metadata": {},
   "outputs": [
    {
     "data": {
      "text/plain": [
       "tensor([[2.9371, 2.8197, 3.0020, 2.8806, 2.8220, 2.9016],\n",
       "        [2.8743, 2.7761, 3.0065, 2.8705, 2.7872, 2.8324],\n",
       "        [3.1504, 2.9996, 3.1287, 2.9691, 2.9335, 3.0814]])"
      ]
     },
     "execution_count": 37,
     "metadata": {},
     "output_type": "execute_result"
    }
   ],
   "source": [
    "grades = torch.einsum('ijk,ijk->ij', probs_cat, cat_grade)\n",
    "grades "
   ]
  },
  {
   "cell_type": "markdown",
   "id": "958e8467-f6ca-441c-847a-3adcc0164057",
   "metadata": {},
   "source": [
    "Let's convert this to a dataframe:"
   ]
  },
  {
   "cell_type": "code",
   "execution_count": 38,
   "id": "34d34237-1a86-4622-8536-458b943e6364",
   "metadata": {},
   "outputs": [
    {
     "data": {
      "text/html": [
       "<div>\n",
       "<style scoped>\n",
       "    .dataframe tbody tr th:only-of-type {\n",
       "        vertical-align: middle;\n",
       "    }\n",
       "\n",
       "    .dataframe tbody tr th {\n",
       "        vertical-align: top;\n",
       "    }\n",
       "\n",
       "    .dataframe thead th {\n",
       "        text-align: right;\n",
       "    }\n",
       "</style>\n",
       "<table border=\"1\" class=\"dataframe\">\n",
       "  <thead>\n",
       "    <tr style=\"text-align: right;\">\n",
       "      <th></th>\n",
       "      <th>cohesion</th>\n",
       "      <th>syntax</th>\n",
       "      <th>vocabulary</th>\n",
       "      <th>phraseology</th>\n",
       "      <th>grammar</th>\n",
       "      <th>conventions</th>\n",
       "      <th>text_id</th>\n",
       "    </tr>\n",
       "  </thead>\n",
       "  <tbody>\n",
       "    <tr>\n",
       "      <th>0</th>\n",
       "      <td>2.937111</td>\n",
       "      <td>2.819667</td>\n",
       "      <td>3.002044</td>\n",
       "      <td>2.880621</td>\n",
       "      <td>2.822022</td>\n",
       "      <td>2.901631</td>\n",
       "      <td>0000C359D63E</td>\n",
       "    </tr>\n",
       "    <tr>\n",
       "      <th>1</th>\n",
       "      <td>2.874267</td>\n",
       "      <td>2.776135</td>\n",
       "      <td>3.006503</td>\n",
       "      <td>2.870503</td>\n",
       "      <td>2.787220</td>\n",
       "      <td>2.832387</td>\n",
       "      <td>000BAD50D026</td>\n",
       "    </tr>\n",
       "    <tr>\n",
       "      <th>2</th>\n",
       "      <td>3.150431</td>\n",
       "      <td>2.999614</td>\n",
       "      <td>3.128673</td>\n",
       "      <td>2.969058</td>\n",
       "      <td>2.933495</td>\n",
       "      <td>3.081372</td>\n",
       "      <td>00367BB2546B</td>\n",
       "    </tr>\n",
       "  </tbody>\n",
       "</table>\n",
       "</div>"
      ],
      "text/plain": [
       "   cohesion    syntax  vocabulary  phraseology   grammar  conventions  \\\n",
       "0  2.937111  2.819667    3.002044     2.880621  2.822022     2.901631   \n",
       "1  2.874267  2.776135    3.006503     2.870503  2.787220     2.832387   \n",
       "2  3.150431  2.999614    3.128673     2.969058  2.933495     3.081372   \n",
       "\n",
       "        text_id  \n",
       "0  0000C359D63E  \n",
       "1  000BAD50D026  \n",
       "2  00367BB2546B  "
      ]
     },
     "execution_count": 38,
     "metadata": {},
     "output_type": "execute_result"
    }
   ],
   "source": [
    "sub = pd.DataFrame(grades.numpy())\n",
    "sub.columns = df_ss.columns[1:]\n",
    "sub[\"text_id\"] = ds_tst[\"text_id\"]\n",
    "sub"
   ]
  },
  {
   "cell_type": "markdown",
   "id": "86d7c58f-c66b-496f-8958-7d7b9dc1ef20",
   "metadata": {},
   "source": [
    "We need to rearrange the columns to get the right format."
   ]
  },
  {
   "cell_type": "code",
   "execution_count": 39,
   "id": "f4b39ac7-490f-4ea9-a849-ee1ad24ab9b3",
   "metadata": {},
   "outputs": [
    {
     "data": {
      "text/html": [
       "<div>\n",
       "<style scoped>\n",
       "    .dataframe tbody tr th:only-of-type {\n",
       "        vertical-align: middle;\n",
       "    }\n",
       "\n",
       "    .dataframe tbody tr th {\n",
       "        vertical-align: top;\n",
       "    }\n",
       "\n",
       "    .dataframe thead th {\n",
       "        text-align: right;\n",
       "    }\n",
       "</style>\n",
       "<table border=\"1\" class=\"dataframe\">\n",
       "  <thead>\n",
       "    <tr style=\"text-align: right;\">\n",
       "      <th></th>\n",
       "      <th>text_id</th>\n",
       "      <th>cohesion</th>\n",
       "      <th>syntax</th>\n",
       "      <th>vocabulary</th>\n",
       "      <th>phraseology</th>\n",
       "      <th>grammar</th>\n",
       "      <th>conventions</th>\n",
       "    </tr>\n",
       "  </thead>\n",
       "  <tbody>\n",
       "    <tr>\n",
       "      <th>0</th>\n",
       "      <td>0000C359D63E</td>\n",
       "      <td>2.937111</td>\n",
       "      <td>2.819667</td>\n",
       "      <td>3.002044</td>\n",
       "      <td>2.880621</td>\n",
       "      <td>2.822022</td>\n",
       "      <td>2.901631</td>\n",
       "    </tr>\n",
       "    <tr>\n",
       "      <th>1</th>\n",
       "      <td>000BAD50D026</td>\n",
       "      <td>2.874267</td>\n",
       "      <td>2.776135</td>\n",
       "      <td>3.006503</td>\n",
       "      <td>2.870503</td>\n",
       "      <td>2.787220</td>\n",
       "      <td>2.832387</td>\n",
       "    </tr>\n",
       "    <tr>\n",
       "      <th>2</th>\n",
       "      <td>00367BB2546B</td>\n",
       "      <td>3.150431</td>\n",
       "      <td>2.999614</td>\n",
       "      <td>3.128673</td>\n",
       "      <td>2.969058</td>\n",
       "      <td>2.933495</td>\n",
       "      <td>3.081372</td>\n",
       "    </tr>\n",
       "  </tbody>\n",
       "</table>\n",
       "</div>"
      ],
      "text/plain": [
       "        text_id  cohesion    syntax  vocabulary  phraseology   grammar  \\\n",
       "0  0000C359D63E  2.937111  2.819667    3.002044     2.880621  2.822022   \n",
       "1  000BAD50D026  2.874267  2.776135    3.006503     2.870503  2.787220   \n",
       "2  00367BB2546B  3.150431  2.999614    3.128673     2.969058  2.933495   \n",
       "\n",
       "   conventions  \n",
       "0     2.901631  \n",
       "1     2.832387  \n",
       "2     3.081372  "
      ]
     },
     "execution_count": 39,
     "metadata": {},
     "output_type": "execute_result"
    }
   ],
   "source": [
    "sub = sub[df_ss.columns]\n",
    "sub "
   ]
  },
  {
   "cell_type": "code",
   "execution_count": 40,
   "id": "645507d1-b6cc-4149-a4f4-497fbb91a7c4",
   "metadata": {},
   "outputs": [],
   "source": [
    "sub.to_csv(\"submission.csv\", index=False)"
   ]
  },
  {
   "cell_type": "code",
   "execution_count": null,
   "id": "bfb0d1ad-917d-493a-adfd-79f654a607cc",
   "metadata": {},
   "outputs": [],
   "source": []
  },
  {
   "cell_type": "code",
   "execution_count": null,
   "id": "faba221f-6dc2-4802-8056-80eab2c2013c",
   "metadata": {},
   "outputs": [],
   "source": []
  }
 ],
 "metadata": {
  "kernelspec": {
   "display_name": "Python 3 (ipykernel)",
   "language": "python",
   "name": "python3"
  },
  "language_info": {
   "codemirror_mode": {
    "name": "ipython",
    "version": 3
   },
   "file_extension": ".py",
   "mimetype": "text/x-python",
   "name": "python",
   "nbconvert_exporter": "python",
   "pygments_lexer": "ipython3",
   "version": "3.9.13"
  }
 },
 "nbformat": 4,
 "nbformat_minor": 5
}
